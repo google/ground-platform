{
  "nbformat": 4,
  "nbformat_minor": 0,
  "metadata": {
    "colab": {
      "provenance": [],
      "toc_visible": true,
      "include_colab_link": true
    },
    "kernelspec": {
      "name": "python3",
      "display_name": "Python 3"
    },
    "language_info": {
      "name": "python"
    }
  },
  "cells": [
    {
      "cell_type": "markdown",
      "metadata": {
        "id": "view-in-github",
        "colab_type": "text"
      },
      "source": [
        "<a href=\"https://colab.research.google.com/github/google/ground-platform/blob/master/notebooks/generate_offline_imagery2.ipynb\" target=\"_parent\"><img src=\"https://colab.research.google.com/assets/colab-badge.svg\" alt=\"Open In Colab\"/></a>"
      ]
    },
    {
      "cell_type": "markdown",
      "source": [
        "# Post-process Ground imagery (2/2)\n",
        "\n",
        "This notebook produces cloud optimized-GeoTIFFs (COGs) compatible with Google Maps Platform APIs and the Ground data collection platform Android app. For convenience, we've affectionally dubbed these Maps-optimized COGs as \"MOGs\".\n",
        "\n",
        "See [README.md](https://github.com/google/ground-android/blob/master/ground/src/main/java/com/google/android/ground/ui/map/gms/mog/README.md) in Android implementation for details.\n",
        "\n",
        "Be sure [Generate Ground offline imagery](https://colab.research.google.com/github/google/ground-platform/blob/master/notebooks/generate_offline_imagery1.ipynb) has been run and Earth Engine tasks have completed before running this notebook."
      ],
      "metadata": {
        "id": "MN0yiT1u74PH"
      }
    },
    {
      "cell_type": "markdown",
      "source": [
        "##  Configuration"
      ],
      "metadata": {
        "id": "H1lIE8pBI1C5"
      }
    },
    {
      "cell_type": "markdown",
      "source": [
        "### Required inputs"
      ],
      "metadata": {
        "id": "iLklRTCxI35n"
      }
    },
    {
      "cell_type": "code",
      "source": [
        "BUCKET_NAME=input('ID of bucket where GeoTIFFs are read and written: ')"
      ],
      "metadata": {
        "id": "wqIeqxMEI5-3"
      },
      "execution_count": null,
      "outputs": []
    },
    {
      "cell_type": "markdown",
      "source": [
        "### Custom paths\n",
        "\n",
        "The can be adjusted as needed."
      ],
      "metadata": {
        "id": "lTpntWE-JxHs"
      }
    },
    {
      "cell_type": "code",
      "source": [
        "SRC_PATH=\"2022/geotiff\"\n",
        "DEST_PATH=\"2022/cog\""
      ],
      "metadata": {
        "id": "O4yVrj-6JrBM"
      },
      "execution_count": null,
      "outputs": []
    },
    {
      "cell_type": "markdown",
      "source": [
        "### Other constants\n",
        "\n",
        "Only modify these if you know what you're doing!"
      ],
      "metadata": {
        "id": "FGXD1IEjJkto"
      }
    },
    {
      "cell_type": "code",
      "source": [
        "HI_RES_MOG_MIN_ZOOM=8\n",
        "HI_RES_MOG_MAX_ZOOM=14\n",
        "SRC_PREFIX=f\"{SRC_PATH}/{HI_RES_MOG_MIN_ZOOM}\"\n",
        "WORLD_PATH=f\"{SRC_PREFIX}/world.tif\"\n",
        "WORLD_MASKED_PATH=f\"{SRC_PREFIX}/world-masked.tif\"\n",
        "DEST_PREFIX=f\"{DEST_PATH}/{HI_RES_MOG_MIN_ZOOM}\"\n",
        "OVERWRITE_EXISTING=False\n",
        "\n",
        "# Constants\n",
        "TMP_FILENAME=\"temp.tif\"\n",
        "GCS_BROWSER_BASE_URL=\"https://console.cloud.google.com/storage/browser\"\n",
        "GCS_DETAILS_BASE_URL=\"https://console.cloud.google.com/storage/browser/_details\""
      ],
      "metadata": {
        "id": "FFNaHNCUJpBE"
      },
      "execution_count": null,
      "outputs": []
    },
    {
      "cell_type": "markdown",
      "source": [
        "## Setup\n",
        "\n",
        "Run once per session."
      ],
      "metadata": {
        "id": "uj_gNNC7Ahxa"
      }
    },
    {
      "cell_type": "markdown",
      "source": [
        "### Install deps"
      ],
      "metadata": {
        "id": "proLU21CK1dr"
      }
    },
    {
      "cell_type": "code",
      "source": [
        "!pip install rasterio rio-cogeo gdal"
      ],
      "metadata": {
        "id": "dXgnK9v3K3Sb"
      },
      "execution_count": null,
      "outputs": []
    },
    {
      "cell_type": "markdown",
      "source": [
        "### Authenticate user"
      ],
      "metadata": {
        "id": "4dXJ8YvyK40h"
      }
    },
    {
      "cell_type": "code",
      "source": [
        "from google.colab import auth\n",
        "\n",
        "auth.authenticate_user()"
      ],
      "metadata": {
        "id": "xdxkoBhM0c75"
      },
      "execution_count": null,
      "outputs": []
    },
    {
      "cell_type": "markdown",
      "source": [
        "### Imports and vars"
      ],
      "metadata": {
        "id": "P8YlhMwZO2ih"
      }
    },
    {
      "cell_type": "code",
      "source": [
        "from google.cloud import storage\n",
        "import rasterio\n",
        "from osgeo import gdal # https://gdal.org/api/python/osgeo.gdal.html\n",
        "import os\n",
        "from rasterio.plot import show\n",
        "import matplotlib.pyplot as plt\n",
        "import numpy as np\n",
        "import re\n",
        "from google.cloud import storage\n",
        "\n",
        "storage_client = storage.Client()\n",
        "bucket = storage_client.bucket(BUCKET_NAME)"
      ],
      "metadata": {
        "id": "-VHrh342O1o-"
      },
      "execution_count": null,
      "outputs": []
    },
    {
      "cell_type": "markdown",
      "source": [
        "## Generate masked world COG\n",
        "\n",
        "Applies a NODATA mask to the global overview COG to include only areas with hi-res imagery. This provides users of the Ground Android app with a consistent user experience across zoom levels; it ensures the same extents are shown at both higher and lower zoom levels."
      ],
      "metadata": {
        "id": "Td0w72jlN2fR"
      }
    },
    {
      "cell_type": "markdown",
      "source": [
        "### Build image locally"
      ],
      "metadata": {
        "id": "MJ2YugjxN9z4"
      }
    },
    {
      "cell_type": "code",
      "source": [
        "def trim_affixes(name):\n",
        "  return name[len(SRC_PREFIX)+1:len(name)-4]\n",
        "\n",
        "def name_to_coord(name):\n",
        "  return [int(x) for x in name.split('/')]\n",
        "\n",
        "def get_mask_coords():\n",
        "  src_blobs = storage_client.list_blobs(BUCKET_NAME, prefix=SRC_PREFIX)\n",
        "  xy_strs = [trim_affixes(b.name) for b in src_blobs if b.name.endswith(\".tif\")]\n",
        "  tile_coords = [name_to_coord(xy) for xy in xy_strs if re.match(r'\\d+/\\d+', xy)]\n",
        "  # Assumes world.tif covers up to one zoom level less than detailed COGs\n",
        "  # Coord (256 * X/2, 256 * Y/2)\n",
        "  return [(xy[0]*128, xy[1]*128) for xy in tile_coords]\n",
        "\n",
        "def show_thumbnail(src_path):\n",
        "  with rasterio.open(src_path) as src:\n",
        "    max_factor=64\n",
        "    plt.figure(figsize=(2, 2))\n",
        "    show(src.read(out_shape=(3, int(src.height / max_factor), int(src.width / max_factor))))\n",
        "\n",
        "src_path = f\"/vsigs_streaming/{BUCKET_NAME}/{WORLD_PATH}\"\n",
        "\n",
        "mask_coords = get_mask_coords()\n",
        "\n",
        "os.remove(TMP_FILENAME) if os.path.exists(TMP_FILENAME) else None\n",
        "# Create masked TIFF.\n",
        "with rasterio.open(src_path) as src:\n",
        "  nbands = src.count\n",
        "  # Build mask.\n",
        "  mask = np.zeros((nbands, src.height, src.width), dtype=np.uint8)\n",
        "  for (x, y) in mask_coords:\n",
        "    # Python array indices are right-exclusive (this will include 0..127).\n",
        "    mask[:nbands, y:y+128, x:x+128] = 1\n",
        "  with rasterio.open(TMP_FILENAME,\n",
        "                     mode='w',\n",
        "                     **src.meta,\n",
        "                     compress=src.compression,\n",
        "                     tiled=True,\n",
        "                     blockxsize=256,\n",
        "                     blockysize=256) as dest:\n",
        "    # Read all the data.\n",
        "    data = src.read()\n",
        "    # Replace actual zero values with neighboring value.\n",
        "    data[data == 0] = 1\n",
        "    # Apply nodata mask.\n",
        "    dest.nodata = 0\n",
        "    data = np.multiply(data, mask)\n",
        "    # Write the data back to the geotiff file\n",
        "    dest.write(data)\n",
        "    dest.close()\n",
        "\n",
        "show_thumbnail(TMP_FILENAME)\n"
      ],
      "metadata": {
        "id": "RR80nCtfN4hW"
      },
      "execution_count": null,
      "outputs": []
    },
    {
      "cell_type": "markdown",
      "source": [
        "### Upload to GCS"
      ],
      "metadata": {
        "id": "ViBKbLcKOiSL"
      }
    },
    {
      "cell_type": "code",
      "source": [
        "# Upload resulting masked TIFF to GCS.\n",
        "bucket.blob(WORLD_MASKED_PATH).upload_from_filename(TMP_FILENAME)"
      ],
      "metadata": {
        "id": "k__Z0fuAOj-h"
      },
      "execution_count": null,
      "outputs": []
    },
    {
      "cell_type": "markdown",
      "source": [
        "## Build MOGs\n"
      ],
      "metadata": {
        "id": "oWP2XrQOzu06"
      }
    },
    {
      "cell_type": "code",
      "source": [
        "def show_thumbnail(src_path):\n",
        "  with rasterio.open(src_path) as src:\n",
        "    max_factor=src.overviews(1)[-1]\n",
        "    plt.figure(figsize=(1, 1))\n",
        "    show(src.read(out_shape=(3, int(src.height / max_factor), int(src.width / max_factor))))\n",
        "\n",
        "def build_mog(src_path, dst_path):\n",
        "  \"\"\"Convert image to Maps Optimized GeoTIFF.\"\"\"\n",
        "\n",
        "  gdal.UseExceptions()\n",
        "\n",
        "  # Open the input raster\n",
        "  src=gdal.Open(src_path)\n",
        "\n",
        "  # Open the output raster\n",
        "  ds=gdal.Translate(\n",
        "      destName=TMP_FILENAME,\n",
        "      srcDS=src,\n",
        "      format=\"COG\",\n",
        "      options=[\"GDAL_TIFF_INTERNAL_MASK=YES\"],\n",
        "      creationOptions=[\n",
        "          \"BLOCKSIZE=256\",\n",
        "          \"BIGTIFF=NO\",\n",
        "          \"TILING_SCHEME=GoogleMapsCompatible\",\n",
        "          \"COMPRESS=JPEG\",\n",
        "          \"QUALITY=75\"\n",
        "      ]\n",
        "  )\n",
        "\n",
        "  # Close the output raster to flush buffer.\n",
        "  ds = None\n",
        "  tmp_ds = None\n",
        "\n",
        "  file_size = os.stat(TMP_FILENAME).st_size / (1024 * 1024)\n",
        "  print(f\"Uploading {file_size:.1f} MB to {dst_path}\")\n",
        "  bucket.blob(dst_path).upload_from_filename(TMP_FILENAME)\n",
        "\n",
        "print(f\"Scanning {GCS_BROWSER_BASE_URL}/{BUCKET_NAME}/{SRC_PREFIX}\")\n",
        "src_blobs = storage_client.list_blobs(BUCKET_NAME, prefix=SRC_PREFIX)\n",
        "src_paths = [b.name for b in src_blobs if b.name.endswith(\".tif\")]\n",
        "\n",
        "# Uncomment to force refresh of masked world image.\n",
        "# src_paths = [\"2022/geotiff/8/world-masked.tif\"]\n",
        "# OVERWRITE_EXISTING = True\n",
        "\n",
        "print(f\"Building COGs from {len(src_paths)} GeoTIFFs\")\n",
        "print(src_paths)\n",
        "print(f\"Output: https://console.cloud.google.com/storage/browser/{BUCKET_NAME}/{DEST_PREFIX}\")\n",
        "\n",
        "for subpath in src_paths:\n",
        "  src_path=f\"/vsigs_streaming/{BUCKET_NAME}/{subpath}\"\n",
        "  dst_path=DEST_PREFIX + subpath[len(SRC_PREFIX):]\n",
        "  blob = storage.Blob(dst_path, bucket)\n",
        "  if (not OVERWRITE_EXISTING and blob.exists(storage_client)):\n",
        "    print(f\"{dst_path} exists, skipping.\")\n",
        "    a = 1 # do nothing\n",
        "  else:\n",
        "    print(f\"Building {dst_path}\")\n",
        "    build_mog(\n",
        "        src_path=src_path,\n",
        "        dst_path=dst_path\n",
        "    )\n",
        "    show_thumbnail(f\"/vsigs_streaming/{BUCKET_NAME}/{dst_path}\")\n",
        "\n",
        "print(\"Done!\")"
      ],
      "metadata": {
        "id": "2JdD7hlEqTQC"
      },
      "execution_count": null,
      "outputs": []
    },
    {
      "cell_type": "markdown",
      "source": [
        "## Next steps"
      ],
      "metadata": {
        "id": "bNxik78EP5yg"
      }
    },
    {
      "cell_type": "markdown",
      "source": [
        "To use the imagery generated above in Ground, you currently need to manually add the URL to each Ground survey in should be made availablee:\n",
        "\n",
        "1. Open the Ground web console.\n",
        "2. Select a Survey.\n",
        "3. Click the gear icon in the top-right corner and click \"Edit survey\".\n",
        "4. Click \"JSON\" in the left side menu.\n",
        "5. Directly under the top-level \"`{`\", paste in the snippet generated by running the next cell."
      ],
      "metadata": {
        "id": "KdSS82hcPKXC"
      }
    },
    {
      "cell_type": "code",
      "source": [
        "print('''\n",
        "  \"tileSources\": [\n",
        "    {\n",
        "      \"url\": \"https://storage.googleapis.com/''' + BUCKET_NAME + '/' + DEST_PREFIX + '''\"\n",
        "    }\n",
        "  ],\n",
        "''')"
      ],
      "metadata": {
        "id": "rXOwHLoZQntT"
      },
      "execution_count": null,
      "outputs": []
    }
  ]
}