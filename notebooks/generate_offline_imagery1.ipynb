{
  "nbformat": 4,
  "nbformat_minor": 0,
  "metadata": {
    "colab": {
      "provenance": [],
      "toc_visible": true,
      "collapsed_sections": [
        "kCGFtnZLANOR",
        "UWkzDi-bAh9z",
        "FEzietpN_5Tq"
      ],
      "include_colab_link": true
    },
    "kernelspec": {
      "name": "python3",
      "display_name": "Python 3"
    },
    "language_info": {
      "name": "python"
    }
  },
  "cells": [
    {
      "cell_type": "markdown",
      "metadata": {
        "id": "view-in-github",
        "colab_type": "text"
      },
      "source": [
        "<a href=\"https://colab.research.google.com/github/rfontanarosa/ground-platform/blob/notebooks/notebooks/generate_offline_imagery1.ipynb\" target=\"_parent\"><img src=\"https://colab.research.google.com/assets/colab-badge.svg\" alt=\"Open In Colab\"/></a>"
      ]
    },
    {
      "cell_type": "markdown",
      "source": [
        "# Generate Ground offline imagery (1/2)\n",
        "\n",
        "This notebook generates a series of sliced cloud-optimized GeoTIFFs (COGs)\n",
        "for use with the Ground data collection platform Android app."
      ],
      "metadata": {
        "id": "qZ4He4yuyIPZ"
      }
    },
    {
      "cell_type": "markdown",
      "source": [
        "## Configure all the things"
      ],
      "metadata": {
        "id": "lwLfn7pPB3H8"
      }
    },
    {
      "cell_type": "markdown",
      "source": [
        "### Required inputs"
      ],
      "metadata": {
        "id": "263Dqfl0OuYh"
      }
    },
    {
      "cell_type": "code",
      "source": [
        "COUNTRY_NAME=input('Name of country to export, exactly as it appears in FAO GAUL 2015: ')\n",
        "\n",
        "DEST_BUCKET=input('Bucket ID where GeoTIFFs should be stored: ')\n",
        "\n",
        "CLOUD_PROJECT=input('Cloud project for Earth Engine execution: ')"
      ],
      "metadata": {
        "id": "iA2QLfo1_jzU"
      },
      "execution_count": null,
      "outputs": []
    },
    {
      "cell_type": "markdown",
      "source": [
        "### Optional config\n",
        "\n",
        "The constants may be adjusted based on your needs."
      ],
      "metadata": {
        "id": "kYjV5ofm_tm0"
      }
    },
    {
      "cell_type": "code",
      "source": [
        "START_DATE = '2022-01-01'\n",
        "END_DATE = '2023-01-01'\n",
        "DEST_PATH = 'raw-imagery/s2/2022'\n",
        "OVERWRITE_EXISTING = False"
      ],
      "metadata": {
        "id": "36ewdQ_J_tNK"
      },
      "execution_count": null,
      "outputs": []
    },
    {
      "cell_type": "markdown",
      "source": [
        "### Fine-tuning\n",
        "\n",
        "Values have been set through iterative manual experimentation. Only modify these if you know what you're doing!"
      ],
      "metadata": {
        "id": "kCGFtnZLANOR"
      }
    },
    {
      "cell_type": "code",
      "source": [
        "# A single image is generated for zoom 0..HI_RES_MIN_ZOOM-1.\n",
        "HI_RES_MIN_ZOOM = 8\n",
        "\n",
        "# The hi-res images cover zooms HI_RES_MIN_ZOOM..HI_RES_MAX_ZOOM.\n",
        "HI_RES_MAX_ZOOM = 14\n",
        "\n",
        "# S2 cloudless export constants:\n",
        "CLOUD_FILTER = 60\n",
        "CLD_PRB_THRESH = 40\n",
        "NIR_DRK_THRESH = 0.15\n",
        "CLD_PRJ_DIST = 2\n",
        "BUFFER = 100\n",
        "\n",
        "# Visualization params:\n",
        "S2_VIS_PARAMS = {'bands': ['B4', 'B3', 'B2'], 'min': 0, 'max': 2000, 'gamma': 1.2}\n",
        "HILLSHADE_VIS_PARAMS = {'min': 0, 'max': 160}\n",
        "# Ooacity ranges for low and high illumination regions.\n",
        "LO_MIN = 0\n",
        "LO_MAX = 170\n",
        "HI_MIN = 210\n",
        "HI_MAX = 255\n",
        "# Value range to stretch opacity [1,0].\n",
        "LO_OPAC_MIN = -200\n",
        "LO_OPAC_MAX = 170\n",
        "HI_OPAC_MIN = 210\n",
        "HI_OPAC_MAX = 700\n",
        "LO_VIS = {'min': 0, 'max': 1, 'palette': ['000000']}\n",
        "HI_VIS = {'min': 0, 'max': 1, 'palette': ['FFFFFF']}"
      ],
      "metadata": {
        "id": "yKDFPLGRO1Bx"
      },
      "execution_count": null,
      "outputs": []
    },
    {
      "cell_type": "markdown",
      "source": [
        "### Debug output\n",
        "\n",
        "Debug info based on the above constants."
      ],
      "metadata": {
        "id": "UWkzDi-bAh9z"
      }
    },
    {
      "cell_type": "code",
      "source": [
        "# Compute resolution of images\n",
        "\n",
        "hi_res_dim = 256 * pow(2, HI_RES_MAX_ZOOM - HI_RES_MIN_ZOOM)\n",
        "hi_res_pixels = hi_res_dim * hi_res_dim\n",
        "lo_res_dim = 256 * pow(2, HI_RES_MIN_ZOOM - 1)\n",
        "lo_res_pixels = lo_res_dim * lo_res_dim\n",
        "\n",
        "print(f\"Hi res images: {hi_res_dim:,} x {hi_res_dim:,} ({hi_res_pixels:,} pixels)\")\n",
        "print(f\"Lo res image:  {lo_res_dim:,} x {lo_res_dim:,} ({lo_res_pixels:,} pixels)\")"
      ],
      "metadata": {
        "id": "j6j27DkUApSX"
      },
      "execution_count": null,
      "outputs": []
    },
    {
      "cell_type": "markdown",
      "source": [
        "## Initialization and setup"
      ],
      "metadata": {
        "id": "vy9b4lTVCDxm"
      }
    },
    {
      "cell_type": "markdown",
      "source": [
        "### Install dependencies"
      ],
      "metadata": {
        "id": "iBNyIgVV5hW_"
      }
    },
    {
      "cell_type": "code",
      "source": [
        "!pip install mercantile unidecode"
      ],
      "metadata": {
        "id": "muSs8jovkjm_"
      },
      "execution_count": null,
      "outputs": []
    },
    {
      "cell_type": "markdown",
      "source": [
        "### Do the sign-in boogie"
      ],
      "metadata": {
        "id": "2IaH6MAalfir"
      }
    },
    {
      "cell_type": "code",
      "source": [
        "import ee\n",
        "ee.Authenticate()\n",
        "ee.Initialize(project=CLOUD_PROJECT)"
      ],
      "metadata": {
        "id": "tZ75jyTNWVZ0"
      },
      "execution_count": null,
      "outputs": []
    },
    {
      "cell_type": "markdown",
      "source": [
        "### Define Folium map utils\n",
        "\n",
        "Used to preview results on a map."
      ],
      "metadata": {
        "id": "_cOGnnkgSiB0"
      }
    },
    {
      "cell_type": "code",
      "source": [
        "import folium\n",
        "\n",
        "def add_ee_feature_collection(self, ee_feature_collection, vis_params, name):\n",
        "  map_id_dict = ee.FeatureCollection(ee_feature_collection).getMapId(vis_params)\n",
        "  folium.raster_layers.TileLayer(\n",
        "      tiles=map_id_dict['tile_fetcher'].url_format,\n",
        "      attr='Map Data &copy; <a href=\"https://earthengine.google.com/\">Google Earth Engine</a>',\n",
        "      name=name,\n",
        "      overlay=True,\n",
        "      control=True).add_to(self)\n",
        "\n",
        "\n",
        "# Define a method for displaying Earth Engine image tiles to a folium map.\n",
        "def add_ee_image(self, ee_image_object, vis_params, name, show=True, opacity=1, min_zoom=0):\n",
        "    map_id_dict = ee.Image(ee_image_object).getMapId(vis_params)\n",
        "    folium.raster_layers.TileLayer(\n",
        "        tiles=map_id_dict['tile_fetcher'].url_format,\n",
        "        attr='Map Data &copy; <a href=\"https://earthengine.google.com/\">Google Earth Engine</a>',\n",
        "        name=name,\n",
        "        show=show,\n",
        "        opacity=opacity,\n",
        "        min_zoom=min_zoom,\n",
        "        overlay=True,\n",
        "        control=True\n",
        "        ).add_to(self)\n",
        "\n",
        "# Add the Earth Engine layer method to folium.\n",
        "folium.Map.add_ee_image = add_ee_image\n",
        "\n",
        "# Add an Earth Engine layer drawing method to folium.\n",
        "folium.Map.add_ee_feature_collection = add_ee_feature_collection"
      ],
      "metadata": {
        "id": "88KWk9TwSjll"
      },
      "execution_count": null,
      "outputs": []
    },
    {
      "cell_type": "markdown",
      "source": [
        "### Determine extents of tile sets intersecting AOI"
      ],
      "metadata": {
        "id": "FEzietpN_5Tq"
      }
    },
    {
      "cell_type": "code",
      "source": [
        "import mercantile\n",
        "\n",
        "def ee_feature_bounds(feature):\n",
        "  \"\"\"Synchronously get bounds of EE feature, returning as LngLatBbox.\n",
        "  \"\"\"\n",
        "  coords = feature.bounds().geometry().coordinates().getInfo()[0]\n",
        "  [west, south], _, [east, north], _, _ = coords\n",
        "  return mercantile.LngLatBbox(west, south, east, north)\n",
        "\n",
        "def tile_to_ee_bbox(tile):\n",
        "  # Note: This can also be done in Earth Engine, but Mercantile provides a\n",
        "  # more Pythonic API, including model objects like Bounds.\n",
        "  bounds = mercantile.bounds(tile)\n",
        "  return ee.Geometry.BBox(bounds.west, bounds.south, bounds.east, bounds.north)\n",
        "\n",
        "def tile_to_ee_feature(tile):\n",
        "  return ee.Feature(tile_to_ee_bbox(tile), {'x': tile.x, 'y': tile.y, 'z': tile.z})\n",
        "\n",
        "def ee_feature_to_tile(ee_feature):\n",
        "  p = ee_feature['properties']\n",
        "  return mercantile.Tile(p['x'], p['y'], p['z'])\n",
        "\n",
        "def filter_tiles_by_bounds(tiles, ee_geometry):\n",
        "  \"\"\"Synchronously filter Tiles by EE geometry.\n",
        "  \"\"\"\n",
        "  tiles_fc = ee.FeatureCollection([tile_to_ee_feature(tile) for tile in tiles])\n",
        "  filtered_fc = tiles_fc.filterBounds(ee_geometry)\n",
        "  features = filtered_fc.getInfo()['features']\n",
        "  return [ee_feature_to_tile(f) for f in features]\n",
        "\n",
        "# Fetch the AOI and bounds.\n",
        "gaul0 = ee.FeatureCollection(\"FAO/GAUL/2015/level0\")\n",
        "aoi = ee.Feature(gaul0.filter(ee.Filter.eq('ADM0_NAME', COUNTRY_NAME)).first())\n",
        "aoi_bounds = ee_feature_bounds(aoi)\n",
        "\n",
        "# Bounding tiles of all possible tilesets for aoi_bounds.\n",
        "aoi_bounds_tileset_extents = mercantile.tiles(\n",
        "    aoi_bounds.west,\n",
        "    aoi_bounds.south,\n",
        "    aoi_bounds.east,\n",
        "    aoi_bounds.north,\n",
        "    [HI_RES_MIN_ZOOM])\n",
        "\n",
        "# Bounding tiles only for tilesets that overlap the AOI.\n",
        "aoi_tileset_extents = filter_tiles_by_bounds(aoi_bounds_tileset_extents, aoi.geometry())\n",
        "\n",
        "# Display tileset extents on map.\n",
        "map = folium.Map(width=1024, height=600)\n",
        "\n",
        "# Show tile extents on map.\n",
        "for tile in aoi_tileset_extents:\n",
        "  [west, south, east, north] = mercantile.bounds(tile)\n",
        "  folium.Rectangle(bounds = [(north, west), (south, east)]).add_to(map)\n",
        "\n",
        "map.fit_bounds([[aoi_bounds.south, aoi_bounds.west], [aoi_bounds.north, aoi_bounds.east]], padding=(6, 6))\n",
        "\n",
        "print(f\"One GeoTIFF will be exported for each tile at zoom {HI_RES_MAX_ZOOM}, plus one for the entire world at zoom {HI_RES_MAX_ZOOM-1}:\")\n",
        "print()\n",
        "display(map)"
      ],
      "metadata": {
        "id": "LVN1wqCZxakR"
      },
      "execution_count": null,
      "outputs": []
    },
    {
      "cell_type": "markdown",
      "source": [
        "### Define image source\n",
        "\n",
        "Build cloudless mosaic using publicly available 10m Sentinel-2 imagery."
      ],
      "metadata": {
        "id": "Mu2j1U51Wae-"
      }
    },
    {
      "cell_type": "code",
      "source": [
        "# Based on https://developers.google.com/earth-engine/tutorials/community/sentinel-2-s2cloudless\n",
        "def get_s2_sr_cld_col(aoi, start_date, end_date):\n",
        "    # Import and filter S2 SR.\n",
        "    s2_sr_col = (ee.ImageCollection('COPERNICUS/S2_SR_HARMONIZED')\n",
        "        .filterBounds(aoi)\n",
        "        .filterDate(start_date, end_date)\n",
        "        .filter(ee.Filter.lte('CLOUDY_PIXEL_PERCENTAGE', CLOUD_FILTER)))\n",
        "\n",
        "    # Import and filter s2cloudless.\n",
        "    s2_cloudless_col = (ee.ImageCollection('COPERNICUS/S2_CLOUD_PROBABILITY')\n",
        "        .filterBounds(aoi)\n",
        "        .filterDate(start_date, end_date))\n",
        "\n",
        "    # Join the filtered s2cloudless collection to the SR collection by the 'system:index' property.\n",
        "    return ee.ImageCollection(ee.Join.saveFirst('s2cloudless').apply(**{\n",
        "        'primary': s2_sr_col,\n",
        "        'secondary': s2_cloudless_col,\n",
        "        'condition': ee.Filter.equals(**{\n",
        "            'leftField': 'system:index',\n",
        "            'rightField': 'system:index'\n",
        "        })\n",
        "    }))\n",
        "\n",
        "def add_cloud_bands(img):\n",
        "    # Get s2cloudless image, subset the probability band.\n",
        "    cld_prb = ee.Image(img.get('s2cloudless')).select('probability')\n",
        "\n",
        "    # Condition s2cloudless by the probability threshold value.\n",
        "    is_cloud = cld_prb.gt(CLD_PRB_THRESH).rename('clouds')\n",
        "\n",
        "    # Add the cloud probability layer and cloud mask as image bands.\n",
        "    return img.addBands(ee.Image([cld_prb, is_cloud]))\n",
        "\n",
        "def add_shadow_bands(img):\n",
        "    # Identify water pixels from the SCL band.\n",
        "    not_water = img.select('SCL').neq(6)\n",
        "\n",
        "    # Identify dark NIR pixels that are not water (potential cloud shadow pixels).\n",
        "    SR_BAND_SCALE = 1e4\n",
        "    dark_pixels = img.select('B8').lt(NIR_DRK_THRESH*SR_BAND_SCALE).multiply(not_water).rename('dark_pixels')\n",
        "\n",
        "    # Determine the direction to project cloud shadow from clouds (assumes UTM projection).\n",
        "    shadow_azimuth = ee.Number(90).subtract(ee.Number(img.get('MEAN_SOLAR_AZIMUTH_ANGLE')));\n",
        "\n",
        "    # Project shadows from clouds for the distance specified by the CLD_PRJ_DIST input.\n",
        "    cld_proj = (img.select('clouds').directionalDistanceTransform(shadow_azimuth, CLD_PRJ_DIST*10)\n",
        "        .reproject(**{'crs': img.select(0).projection(), 'scale': 100})\n",
        "        .select('distance')\n",
        "        .mask()\n",
        "        .rename('cloud_transform'))\n",
        "\n",
        "    # Identify the intersection of dark pixels with cloud shadow projection.\n",
        "    shadows = cld_proj.multiply(dark_pixels).rename('shadows')\n",
        "\n",
        "    # Add dark pixels, cloud projection, and identified shadows as image bands.\n",
        "    return img.addBands(ee.Image([dark_pixels, cld_proj, shadows]))\n",
        "\n",
        "def add_cld_shdw_mask(img):\n",
        "    # Add cloud component bands.\n",
        "    img_cloud = add_cloud_bands(img)\n",
        "\n",
        "    # Add cloud shadow component bands.\n",
        "    img_cloud_shadow = add_shadow_bands(img_cloud)\n",
        "\n",
        "    # Combine cloud and shadow mask, set cloud and shadow as value 1, else 0.\n",
        "    is_cld_shdw = img_cloud_shadow.select('clouds').add(img_cloud_shadow.select('shadows')).gt(0)\n",
        "\n",
        "    # Remove small cloud-shadow patches and dilate remaining pixels by BUFFER input.\n",
        "    # 20 m scale is for speed, and assumes clouds don't require 10 m precision.\n",
        "    is_cld_shdw = (is_cld_shdw.focalMin(2).focalMax(BUFFER*2/20)\n",
        "        .reproject(**{'crs': img.select([0]).projection(), 'scale': 20})\n",
        "        .rename('cloudmask'))\n",
        "\n",
        "    # Add the final cloud-shadow mask to the image.\n",
        "    return img_cloud_shadow.addBands(is_cld_shdw)\n",
        "\n",
        "def apply_cld_shdw_mask(img):\n",
        "    # Subset the cloudmask band and invert it so clouds/shadow are 0, else 1.\n",
        "    not_cld_shdw = img.select('cloudmask').Not()\n",
        "\n",
        "    # Subset reflectance bands and update their masks, return the result.\n",
        "    return img.select('B.*').updateMask(not_cld_shdw)\n",
        "\n",
        "####### Hillshade w/ variable transparency #######\n",
        "# Based on https://gis.stackexchange.com/questions/445241/hillshade-image-blend-that-is-not-washed-out-earth-engine\n",
        "def apply_hillshade(img):\n",
        "  exaggeration = 0.75\n",
        "  hillshade = ee.Terrain.hillshade(\n",
        "    input=ee.Image('NASA/NASADEM_HGT/001').select('elevation').multiply(exaggeration),\n",
        "    azimuth=150,\n",
        "    elevation=30\n",
        "  ).updateMask(img.select(0).mask())\n",
        "\n",
        "  # Create low and high illumination hillshade images with transparency\n",
        "  # gradient controlled by illumination; combine them and blend on top\n",
        "  # of the original image.\n",
        "  lo_clamped = hillshade.clamp(LO_MIN, LO_MAX)\n",
        "  lo_scaled = lo_clamped.unitScale(LO_OPAC_MIN, LO_OPAC_MAX)\n",
        "  lo = ee.Image(1).subtract(lo_scaled).selfMask().visualize(**LO_VIS)\n",
        "\n",
        "  hi_clamped = hillshade.clamp(HI_MIN, HI_MAX)\n",
        "  hi_scaled = hi_clamped.unitScale(HI_OPAC_MIN , HI_OPAC_MAX)\n",
        "  hi = hi_scaled.selfMask().visualize(**HI_VIS)\n",
        "\n",
        "  return img.blend(lo.blend(hi))\n",
        "\n",
        "# Build S2 mosaic.\n",
        "s2_sr_cld_col = get_s2_sr_cld_col(aoi.geometry(), START_DATE, END_DATE)\n",
        "s2_sr_median = s2_sr_cld_col.map(add_cld_shdw_mask).map(apply_cld_shdw_mask).median()\n",
        "image = apply_hillshade(s2_sr_median.visualize(**S2_VIS_PARAMS))\n",
        "\n",
        "# Preview imagery.\n",
        "map = folium.Map(width=1024, height=600, start_zoom=9)\n",
        "map.add_ee_image(image.clip(aoi), {}, 'Image export preview', show=True, opacity=1, min_zoom=9)\n",
        "map.fit_bounds([[aoi_bounds.south, aoi_bounds.west], [aoi_bounds.north, aoi_bounds.east]])\n",
        "\n",
        "print(\"Visualizing preview - this may take awhile. You may proceed with other steps without waiting.\")\n",
        "print()\n",
        "display(map)"
      ],
      "metadata": {
        "id": "zV6EZRM-WdAr"
      },
      "execution_count": null,
      "outputs": []
    },
    {
      "cell_type": "markdown",
      "source": [
        "## Export GeoTIFFs"
      ],
      "metadata": {
        "id": "Y0YdGN-QX39_"
      }
    },
    {
      "cell_type": "markdown",
      "source": [
        "### Prepare task params"
      ],
      "metadata": {
        "id": "z2T1OD34BzF-"
      }
    },
    {
      "cell_type": "code",
      "source": [
        "from unidecode import unidecode\n",
        "\n",
        "def build_export_task(image, extent, max_zoom, file_name_prefix, dimensions):\n",
        "  x, y, z = extent\n",
        "  country = unidecode(COUNTRY_NAME).replace(\"'\", \"\").replace(\" \", \"-\")\n",
        "  return {\n",
        "    'fileFormat': 'GeoTIFF',\n",
        "    'image': image,\n",
        "     # Note: Region is specified in the source image's CRS, not the target one.\n",
        "    'region': tile_to_ee_bbox(extent),\n",
        "    'description': f\"Export-{country}-{z}-{x}-{y}\",\n",
        "    'bucket': DEST_BUCKET,\n",
        "    'fileNamePrefix': file_name_prefix,\n",
        "    'maxWorkers': 2000,\n",
        "    'maxPixels': dimensions * dimensions,\n",
        "    'dimensions': dimensions,\n",
        "    'fileDimensions': dimensions,\n",
        "    'crs': \"EPSG:3857\"\n",
        "  }\n",
        "\n",
        "# Hi-res images.\n",
        "tasks = [build_export_task(\n",
        "    image=image,\n",
        "    extent=extent,\n",
        "    max_zoom=HI_RES_MAX_ZOOM,\n",
        "    file_name_prefix=f\"{DEST_PATH}/{extent.z}/{extent.x}/{extent.y}\",\n",
        "    dimensions=hi_res_dim)\n",
        " for extent in aoi_tileset_extents]\n",
        "\n",
        "print(len(tasks), \"task(s) ready to run\")"
      ],
      "metadata": {
        "id": "YlZkzJs_GA0W"
      },
      "execution_count": null,
      "outputs": []
    },
    {
      "cell_type": "markdown",
      "source": [
        "### Run tasks"
      ],
      "metadata": {
        "id": "Vpk_OhXA_3Ee"
      }
    },
    {
      "cell_type": "code",
      "source": [
        "from google.cloud import storage\n",
        "\n",
        "# Uncomment to overwrite.\n",
        "# OVERWRITE_EXISTING=True\n",
        "\n",
        "# Access dest bucket to check if files already exist.\n",
        "storage_client = storage.Client(credentials=ee.data._credentials)\n",
        "bucket = storage_client.bucket(DEST_BUCKET)\n",
        "\n",
        "# https://google-auth-oauthlib.readthedocs.io/en/latest/reference/google_auth_oauthlib.flow.html\n",
        "# Export missing tilesets.\n",
        "print(\"Starting tasks. See running tasks at https://code.earthengine.google.com/tasks\")\n",
        "for i, t in enumerate(tasks):\n",
        "  name = t['fileNamePrefix'] + '.tif'\n",
        "  blob = storage.Blob(name, bucket)\n",
        "  if (not OVERWRITE_EXISTING and blob.exists(storage_client)):\n",
        "    print(blob.public_url, 'exists, skipping.')\n",
        "  else:\n",
        "    task = ee.batch.Export.image.toCloudStorage(**t)\n",
        "    task.start()\n",
        "    print(i, task, name)\n",
        "\n",
        "print(\"Export tasks started\")\n"
      ],
      "metadata": {
        "id": "ZKzjH0EP_vyC"
      },
      "execution_count": null,
      "outputs": []
    },
    {
      "cell_type": "markdown",
      "source": [
        "## Next steps\n",
        "\n",
        "If tasks fail, ensure `OVERWRITE_EXISTING=False` and rerun to generate missing outputs.\n",
        "\n",
        "Once the above tasks complete, proceed to [Post-process Ground imagery](https://colab.research.google.com/github/google/ground-platform/blob/master/notebooks/generate_offline_imagery2.ipynb) to prepare the generated imagery for use in Ground."
      ],
      "metadata": {
        "id": "zaavOtANCStn"
      }
    }
  ]
}