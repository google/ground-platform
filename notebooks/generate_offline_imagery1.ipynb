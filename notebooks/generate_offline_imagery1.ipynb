{
  "nbformat": 4,
  "nbformat_minor": 0,
  "metadata": {
    "colab": {
      "provenance": [],
      "toc_visible": true,
      "collapsed_sections": [
        "kCGFtnZLANOR",
        "UWkzDi-bAh9z",
        "FEzietpN_5Tq"
      ],
      "include_colab_link": true
    },
    "kernelspec": {
      "name": "python3",
      "display_name": "Python 3"
    },
    "language_info": {
      "name": "python"
    }
  },
  "cells": [
    {
      "cell_type": "markdown",
      "metadata": {
        "id": "view-in-github",
        "colab_type": "text"
      },
      "source": [
        "<a href=\"https://colab.research.google.com/github/rfontanarosa/ground-platform/blob/notebooks/notebooks/generate_offline_imagery1.ipynb\" target=\"_parent\"><img src=\"https://colab.research.google.com/assets/colab-badge.svg\" alt=\"Open In Colab\"/></a>"
      ]
    },
    {
      "cell_type": "markdown",
      "source": [
        "# Generate Ground offline imagery (1/2)\n",
        "\n",
        "This notebook generates a series of sliced cloud-optimized GeoTIFFs (COGs)\n",
        "for use with the Ground data collection platform Android app."
      ],
      "metadata": {
        "id": "qZ4He4yuyIPZ"
      }
    },
    {
      "cell_type": "markdown",
      "source": [
        "## Configure all the things"
      ],
      "metadata": {
        "id": "lwLfn7pPB3H8"
      }
    },
    {
      "cell_type": "markdown",
      "source": [
        "### Required inputs"
      ],
      "metadata": {
        "id": "263Dqfl0OuYh"
      }
    },
    {
      "cell_type": "code",
      "source": [
        "COUNTRY_NAME=input('Country to export, exactly as it appears in FAO GAUL 2015: ')\n",
        "\n",
        "DEST_BUCKET=input('Bucket ID where GeoTIFFs should be stored: ')\n",
        "\n",
        "CLOUD_PROJECT=input('Cloud project for Earth Engine execution: ')"
      ],
      "metadata": {
        "id": "iA2QLfo1_jzU",
        "colab": {
          "base_uri": "https://localhost:8080/"
        },
        "outputId": "6a423791-f648-444c-e3e2-818a0e5291b7"
      },
      "execution_count": null,
      "outputs": [
        {
          "output_type": "stream",
          "name": "stdout",
          "text": [
            "Collecting unidecode\n",
            "  Downloading Unidecode-1.3.8-py3-none-any.whl (235 kB)\n",
            "\u001b[?25l     \u001b[90m━━━━━━━━━━━━━━━━━━━━━━━━━━━━━━━━━━━━━━━━\u001b[0m \u001b[32m0.0/235.5 kB\u001b[0m \u001b[31m?\u001b[0m eta \u001b[36m-:--:--\u001b[0m\r\u001b[2K     \u001b[91m━━━━━━━━━━━━━━━━━━━━\u001b[0m\u001b[91m╸\u001b[0m\u001b[90m━━━━━━━━━━━━━━━━━━━\u001b[0m \u001b[32m122.9/235.5 kB\u001b[0m \u001b[31m3.5 MB/s\u001b[0m eta \u001b[36m0:00:01\u001b[0m\r\u001b[2K     \u001b[90m━━━━━━━━━━━━━━━━━━━━━━━━━━━━━━━━━━━━━━━━\u001b[0m \u001b[32m235.5/235.5 kB\u001b[0m \u001b[31m4.7 MB/s\u001b[0m eta \u001b[36m0:00:00\u001b[0m\n",
            "\u001b[?25hInstalling collected packages: unidecode\n",
            "Successfully installed unidecode-1.3.8\n"
          ]
        }
      ]
    },
    {
      "cell_type": "markdown",
      "source": [
        "### Optional config\n",
        "\n",
        "The constants may be adjusted based on your needs."
      ],
      "metadata": {
        "id": "kYjV5ofm_tm0"
      }
    },
    {
      "cell_type": "code",
      "source": [
        "START_DATE = '2022-01-01'\n",
        "END_DATE = '2023-01-01'\n",
        "DEST_PATH='raw-imagery/s2/2022'\n",
        "OVERWRITE_EXISTING = False\n",
        "COUNTRY_CODE = 'CIV'"
      ],
      "metadata": {
        "id": "36ewdQ_J_tNK"
      },
      "execution_count": null,
      "outputs": []
    },
    {
      "cell_type": "markdown",
      "source": [
        "### Fine-tuning\n",
        "\n",
        "Values have been set through iterative manual experimentation. Only modify these if you know what you're doing!"
      ],
      "metadata": {
        "id": "kCGFtnZLANOR"
      }
    },
    {
      "cell_type": "code",
      "source": [
        "# A single image is generated for zoom 0..HI_RES_MIN_ZOOM-1.\n",
        "HI_RES_MIN_ZOOM = 8\n",
        "\n",
        "# The hi-res images cover zooms HI_RES_MIN_ZOOM..HI_RES_MAX_ZOOM.\n",
        "HI_RES_MAX_ZOOM = 14\n",
        "\n",
        "# S2 cloudless export constants:\n",
        "CLOUD_FILTER = 60\n",
        "CLD_PRB_THRESH = 40\n",
        "NIR_DRK_THRESH = 0.15\n",
        "CLD_PRJ_DIST = 2\n",
        "BUFFER = 100\n",
        "\n",
        "# Visualization params:\n",
        "S2_VIS_PARAMS = {'bands': ['B4', 'B3', 'B2'], 'min': 0, 'max': 2000, 'gamma': 1.2}\n",
        "HILLSHADE_VIS_PARAMS = {'min': 0, 'max': 160}\n",
        "# Ooacity ranges for low and high illumination regions.\n",
        "LO_MIN = 0\n",
        "LO_MAX = 170\n",
        "HI_MIN = 210\n",
        "HI_MAX = 255\n",
        "# Value range to stretch opacity [1,0].\n",
        "LO_OPAC_MIN = -200\n",
        "LO_OPAC_MAX = 170\n",
        "HI_OPAC_MIN = 210\n",
        "HI_OPAC_MAX = 700\n",
        "LO_VIS = {'min': 0, 'max': 1, 'palette': ['000000']}\n",
        "HI_VIS = {'min': 0, 'max': 1, 'palette': ['FFFFFF']}"
      ],
      "metadata": {
        "id": "yKDFPLGRO1Bx"
      },
      "execution_count": null,
      "outputs": []
    },
    {
      "cell_type": "markdown",
      "source": [
        "### Debug output\n",
        "\n",
        "Debug info based on the above constants."
      ],
      "metadata": {
        "id": "UWkzDi-bAh9z"
      }
    },
    {
      "cell_type": "code",
      "source": [
        "# Compute resolution of images\n",
        "\n",
        "hi_res_dim = 256 * pow(2, HI_RES_MAX_ZOOM - HI_RES_MIN_ZOOM)\n",
        "hi_res_pixels = hi_res_dim * hi_res_dim\n",
        "lo_res_dim = 256 * pow(2, HI_RES_MIN_ZOOM - 1)\n",
        "lo_res_pixels = lo_res_dim * lo_res_dim\n",
        "\n",
        "print(f\"Hi res images: {hi_res_dim:,} x {hi_res_dim:,} ({hi_res_pixels:,} pixels)\")\n",
        "print(f\"Lo res image:  {lo_res_dim:,} x {lo_res_dim:,} ({lo_res_pixels:,} pixels)\")"
      ],
      "metadata": {
        "id": "j6j27DkUApSX",
        "colab": {
          "base_uri": "https://localhost:8080/"
        },
        "outputId": "793883d3-e6a8-4c54-b14d-770fc1f727bb"
      },
      "execution_count": null,
      "outputs": [
        {
          "output_type": "stream",
          "name": "stdout",
          "text": [
            "Hi res images: 16,384 x 16,384 (268,435,456 pixels)\n",
            "Lo res image:  32,768 x 32,768 (1,073,741,824 pixels)\n"
          ]
        }
      ]
    },
    {
      "cell_type": "markdown",
      "source": [
        "## Initialization and setup"
      ],
      "metadata": {
        "id": "vy9b4lTVCDxm"
      }
    },
    {
      "cell_type": "markdown",
      "source": [
        "### Install dependencies"
      ],
      "metadata": {
        "id": "iBNyIgVV5hW_"
      }
    },
    {
      "cell_type": "code",
      "source": [
        "!pip install mercantile"
      ],
      "metadata": {
        "id": "muSs8jovkjm_",
        "colab": {
          "base_uri": "https://localhost:8080/"
        },
        "outputId": "c7ec3053-644e-4b65-97a3-70f0d18eb704"
      },
      "execution_count": null,
      "outputs": [
        {
          "output_type": "stream",
          "name": "stdout",
          "text": [
            "Collecting mercantile\n",
            "  Downloading mercantile-1.2.1-py3-none-any.whl (14 kB)\n",
            "Requirement already satisfied: click>=3.0 in /usr/local/lib/python3.10/dist-packages (from mercantile) (8.1.7)\n",
            "Installing collected packages: mercantile\n",
            "Successfully installed mercantile-1.2.1\n"
          ]
        }
      ]
    },
    {
      "cell_type": "markdown",
      "source": [
        "### Do the sign-in boogie"
      ],
      "metadata": {
        "id": "2IaH6MAalfir"
      }
    },
    {
      "cell_type": "code",
      "source": [
        "import ee\n",
        "ee.Authenticate()\n",
        "ee.Initialize(project=CLOUD_PROJECT)"
      ],
      "metadata": {
        "id": "tZ75jyTNWVZ0"
      },
      "execution_count": null,
      "outputs": []
    },
    {
      "cell_type": "markdown",
      "source": [
        "### Define Folium map utils\n",
        "\n",
        "Used to preview results on a map."
      ],
      "metadata": {
        "id": "_cOGnnkgSiB0"
      }
    },
    {
      "cell_type": "code",
      "source": [
        "import folium\n",
        "\n",
        "def add_ee_feature_collection(self, ee_feature_collection, vis_params, name):\n",
        "  map_id_dict = ee.FeatureCollection(ee_feature_collection).getMapId(vis_params)\n",
        "  folium.raster_layers.TileLayer(\n",
        "      tiles=map_id_dict['tile_fetcher'].url_format,\n",
        "      attr='Map Data &copy; <a href=\"https://earthengine.google.com/\">Google Earth Engine</a>',\n",
        "      name=name,\n",
        "      overlay=True,\n",
        "      control=True).add_to(self)\n",
        "\n",
        "\n",
        "# Define a method for displaying Earth Engine image tiles to a folium map.\n",
        "def add_ee_image(self, ee_image_object, vis_params, name, show=True, opacity=1, min_zoom=0):\n",
        "    map_id_dict = ee.Image(ee_image_object).getMapId(vis_params)\n",
        "    folium.raster_layers.TileLayer(\n",
        "        tiles=map_id_dict['tile_fetcher'].url_format,\n",
        "        attr='Map Data &copy; <a href=\"https://earthengine.google.com/\">Google Earth Engine</a>',\n",
        "        name=name,\n",
        "        show=show,\n",
        "        opacity=opacity,\n",
        "        min_zoom=min_zoom,\n",
        "        overlay=True,\n",
        "        control=True\n",
        "        ).add_to(self)\n",
        "\n",
        "# Add the Earth Engine layer method to folium.\n",
        "folium.Map.add_ee_image = add_ee_image\n",
        "\n",
        "# Add an Earth Engine layer drawing method to folium.\n",
        "folium.Map.add_ee_feature_collection = add_ee_feature_collection"
      ],
      "metadata": {
        "id": "88KWk9TwSjll"
      },
      "execution_count": null,
      "outputs": []
    },
    {
      "cell_type": "markdown",
      "source": [
        "### Determine extents of tile sets intersecting AOI"
      ],
      "metadata": {
        "id": "FEzietpN_5Tq"
      }
    },
    {
      "cell_type": "code",
      "source": [
        "import mercantile\n",
        "\n",
        "def ee_feature_bounds(feature):\n",
        "  \"\"\"Synchronously get bounds of EE feature, returning as LngLatBbox.\n",
        "  \"\"\"\n",
        "  coords = feature.bounds().geometry().coordinates().getInfo()[0]\n",
        "  [west, south], _, [east, north], _, _ = coords\n",
        "  return mercantile.LngLatBbox(west, south, east, north)\n",
        "\n",
        "def tile_to_ee_bbox(tile):\n",
        "  # Note: This can also be done in Earth Engine, but Mercantile provides a\n",
        "  # more Pythonic API, including model objects like Bounds.\n",
        "  bounds = mercantile.bounds(tile)\n",
        "  return ee.Geometry.BBox(bounds.west, bounds.south, bounds.east, bounds.north)\n",
        "\n",
        "def tile_to_ee_feature(tile):\n",
        "  return ee.Feature(tile_to_ee_bbox(tile), {'x': tile.x, 'y': tile.y, 'z': tile.z})\n",
        "\n",
        "def ee_feature_to_tile(ee_feature):\n",
        "  p = ee_feature['properties']\n",
        "  return mercantile.Tile(p['x'], p['y'], p['z'])\n",
        "\n",
        "def filter_tiles_by_bounds(tiles, ee_geometry):\n",
        "  \"\"\"Synchronously filter Tiles by EE geometry.\n",
        "  \"\"\"\n",
        "  tiles_fc = ee.FeatureCollection([tile_to_ee_feature(tile) for tile in tiles])\n",
        "  filtered_fc = tiles_fc.filterBounds(ee_geometry)\n",
        "  features = filtered_fc.getInfo()['features']\n",
        "  return [ee_feature_to_tile(f) for f in features]\n",
        "\n",
        "# Fetch the AOI and bounds.\n",
        "gaul0 = ee.FeatureCollection(\"FAO/GAUL/2015/level0\")\n",
        "aoi = ee.Feature(gaul0.filter(ee.Filter.eq('ADM0_NAME', COUNTRY_NAME)).first())\n",
        "aoi_bounds = ee_feature_bounds(aoi)\n",
        "\n",
        "# Bounding tiles of all possible tilesets for aoi_bounds.\n",
        "aoi_bounds_tileset_extents = mercantile.tiles(\n",
        "    aoi_bounds.west,\n",
        "    aoi_bounds.south,\n",
        "    aoi_bounds.east,\n",
        "    aoi_bounds.north,\n",
        "    [HI_RES_MIN_ZOOM])\n",
        "\n",
        "# Bounding tiles only for tilesets that overlap the AOI.\n",
        "aoi_tileset_extents = filter_tiles_by_bounds(aoi_bounds_tileset_extents, aoi.geometry())\n",
        "\n",
        "# Display tileset extents on map.\n",
        "map = folium.Map(width=1024, height=600)\n",
        "\n",
        "# Show tile extents on map.\n",
        "for tile in aoi_tileset_extents:\n",
        "  [west, south, east, north] = mercantile.bounds(tile)\n",
        "  folium.Rectangle(bounds = [(north, west), (south, east)]).add_to(map)\n",
        "\n",
        "map.fit_bounds([[aoi_bounds.south, aoi_bounds.west], [aoi_bounds.north, aoi_bounds.east]], padding=(6, 6))\n",
        "\n",
        "print(f\"One GeoTIFF will be exported for each tile at zoom {HI_RES_MAX_ZOOM}, plus one for the entire world at zoom {HI_RES_MAX_ZOOM-1}:\")\n",
        "print()\n",
        "display(map)"
      ],
      "metadata": {
        "id": "LVN1wqCZxakR",
        "colab": {
          "base_uri": "https://localhost:8080/",
          "height": 662
        },
        "outputId": "12581379-3ce0-468f-e02b-352e9bf6bb25"
      },
      "execution_count": null,
      "outputs": [
        {
          "output_type": "stream",
          "name": "stdout",
          "text": [
            "One GeoTIFF will be exported for each tile at zoom 14, plus one for the entire world at zoom 13:\n",
            "\n"
          ]
        },
        {
          "output_type": "display_data",
          "data": {
            "text/plain": [
              "<folium.folium.Map at 0x7d561efb78b0>"
            ],
            "text/html": [
              "<div style=\"width:100%;\"><div style=\"position:relative;width:100%;height:0;padding-bottom:60%;\"><span style=\"color:#565656\">Make this Notebook Trusted to load map: File -> Trust Notebook</span><iframe srcdoc=\"&lt;!DOCTYPE html&gt;\n",
              "&lt;html&gt;\n",
              "&lt;head&gt;\n",
              "    \n",
              "    &lt;meta http-equiv=&quot;content-type&quot; content=&quot;text/html; charset=UTF-8&quot; /&gt;\n",
              "    \n",
              "        &lt;script&gt;\n",
              "            L_NO_TOUCH = false;\n",
              "            L_DISABLE_3D = false;\n",
              "        &lt;/script&gt;\n",
              "    \n",
              "    &lt;style&gt;html, body {width: 100%;height: 100%;margin: 0;padding: 0;}&lt;/style&gt;\n",
              "    &lt;style&gt;#map {position:absolute;top:0;bottom:0;right:0;left:0;}&lt;/style&gt;\n",
              "    &lt;script src=&quot;https://cdn.jsdelivr.net/npm/leaflet@1.9.3/dist/leaflet.js&quot;&gt;&lt;/script&gt;\n",
              "    &lt;script src=&quot;https://code.jquery.com/jquery-1.12.4.min.js&quot;&gt;&lt;/script&gt;\n",
              "    &lt;script src=&quot;https://cdn.jsdelivr.net/npm/bootstrap@5.2.2/dist/js/bootstrap.bundle.min.js&quot;&gt;&lt;/script&gt;\n",
              "    &lt;script src=&quot;https://cdnjs.cloudflare.com/ajax/libs/Leaflet.awesome-markers/2.0.2/leaflet.awesome-markers.js&quot;&gt;&lt;/script&gt;\n",
              "    &lt;link rel=&quot;stylesheet&quot; href=&quot;https://cdn.jsdelivr.net/npm/leaflet@1.9.3/dist/leaflet.css&quot;/&gt;\n",
              "    &lt;link rel=&quot;stylesheet&quot; href=&quot;https://cdn.jsdelivr.net/npm/bootstrap@5.2.2/dist/css/bootstrap.min.css&quot;/&gt;\n",
              "    &lt;link rel=&quot;stylesheet&quot; href=&quot;https://netdna.bootstrapcdn.com/bootstrap/3.0.0/css/bootstrap.min.css&quot;/&gt;\n",
              "    &lt;link rel=&quot;stylesheet&quot; href=&quot;https://cdn.jsdelivr.net/npm/@fortawesome/fontawesome-free@6.2.0/css/all.min.css&quot;/&gt;\n",
              "    &lt;link rel=&quot;stylesheet&quot; href=&quot;https://cdnjs.cloudflare.com/ajax/libs/Leaflet.awesome-markers/2.0.2/leaflet.awesome-markers.css&quot;/&gt;\n",
              "    &lt;link rel=&quot;stylesheet&quot; href=&quot;https://cdn.jsdelivr.net/gh/python-visualization/folium/folium/templates/leaflet.awesome.rotate.min.css&quot;/&gt;\n",
              "    \n",
              "            &lt;meta name=&quot;viewport&quot; content=&quot;width=device-width,\n",
              "                initial-scale=1.0, maximum-scale=1.0, user-scalable=no&quot; /&gt;\n",
              "            &lt;style&gt;\n",
              "                #map_56e01492c061bcb616d523d72d7ff18d {\n",
              "                    position: relative;\n",
              "                    width: 1024.0px;\n",
              "                    height: 600.0px;\n",
              "                    left: 0.0%;\n",
              "                    top: 0.0%;\n",
              "                }\n",
              "                .leaflet-container { font-size: 1rem; }\n",
              "            &lt;/style&gt;\n",
              "        \n",
              "&lt;/head&gt;\n",
              "&lt;body&gt;\n",
              "    \n",
              "    \n",
              "            &lt;div class=&quot;folium-map&quot; id=&quot;map_56e01492c061bcb616d523d72d7ff18d&quot; &gt;&lt;/div&gt;\n",
              "        \n",
              "&lt;/body&gt;\n",
              "&lt;script&gt;\n",
              "    \n",
              "    \n",
              "            var map_56e01492c061bcb616d523d72d7ff18d = L.map(\n",
              "                &quot;map_56e01492c061bcb616d523d72d7ff18d&quot;,\n",
              "                {\n",
              "                    center: [0, 0],\n",
              "                    crs: L.CRS.EPSG3857,\n",
              "                    zoom: 1,\n",
              "                    zoomControl: true,\n",
              "                    preferCanvas: false,\n",
              "                }\n",
              "            );\n",
              "\n",
              "            \n",
              "\n",
              "        \n",
              "    \n",
              "            var tile_layer_943e370280457eef0e761287f60cd250 = L.tileLayer(\n",
              "                &quot;https://{s}.tile.openstreetmap.org/{z}/{x}/{y}.png&quot;,\n",
              "                {&quot;attribution&quot;: &quot;Data by \\u0026copy; \\u003ca target=\\&quot;_blank\\&quot; href=\\&quot;http://openstreetmap.org\\&quot;\\u003eOpenStreetMap\\u003c/a\\u003e, under \\u003ca target=\\&quot;_blank\\&quot; href=\\&quot;http://www.openstreetmap.org/copyright\\&quot;\\u003eODbL\\u003c/a\\u003e.&quot;, &quot;detectRetina&quot;: false, &quot;maxNativeZoom&quot;: 18, &quot;maxZoom&quot;: 18, &quot;minZoom&quot;: 0, &quot;noWrap&quot;: false, &quot;opacity&quot;: 1, &quot;subdomains&quot;: &quot;abc&quot;, &quot;tms&quot;: false}\n",
              "            ).addTo(map_56e01492c061bcb616d523d72d7ff18d);\n",
              "        \n",
              "    \n",
              "            var rectangle_a39e412f31ff2648bc8261566becb395 = L.rectangle(\n",
              "                [[8.407168163601074, -9.84375], [7.01366792756663, -8.4375]],\n",
              "                {&quot;bubblingMouseEvents&quot;: true, &quot;color&quot;: &quot;#3388ff&quot;, &quot;dashArray&quot;: null, &quot;dashOffset&quot;: null, &quot;fill&quot;: false, &quot;fillColor&quot;: &quot;#3388ff&quot;, &quot;fillOpacity&quot;: 0.2, &quot;fillRule&quot;: &quot;evenodd&quot;, &quot;lineCap&quot;: &quot;round&quot;, &quot;lineJoin&quot;: &quot;round&quot;, &quot;noClip&quot;: false, &quot;opacity&quot;: 1.0, &quot;smoothFactor&quot;: 1.0, &quot;stroke&quot;: true, &quot;weight&quot;: 3}\n",
              "            ).addTo(map_56e01492c061bcb616d523d72d7ff18d);\n",
              "        \n",
              "    \n",
              "            var rectangle_02a6e47418dc61d0bfa3418b42cef974 = L.rectangle(\n",
              "                [[7.01366792756663, -9.84375], [5.615985819155334, -8.4375]],\n",
              "                {&quot;bubblingMouseEvents&quot;: true, &quot;color&quot;: &quot;#3388ff&quot;, &quot;dashArray&quot;: null, &quot;dashOffset&quot;: null, &quot;fill&quot;: false, &quot;fillColor&quot;: &quot;#3388ff&quot;, &quot;fillOpacity&quot;: 0.2, &quot;fillRule&quot;: &quot;evenodd&quot;, &quot;lineCap&quot;: &quot;round&quot;, &quot;lineJoin&quot;: &quot;round&quot;, &quot;noClip&quot;: false, &quot;opacity&quot;: 1.0, &quot;smoothFactor&quot;: 1.0, &quot;stroke&quot;: true, &quot;weight&quot;: 3}\n",
              "            ).addTo(map_56e01492c061bcb616d523d72d7ff18d);\n",
              "        \n",
              "    \n",
              "            var rectangle_900b7029e5018f24ddcb62baf2f56418 = L.rectangle(\n",
              "                [[11.178401873711781, -8.4375], [9.795677582829734, -7.03125]],\n",
              "                {&quot;bubblingMouseEvents&quot;: true, &quot;color&quot;: &quot;#3388ff&quot;, &quot;dashArray&quot;: null, &quot;dashOffset&quot;: null, &quot;fill&quot;: false, &quot;fillColor&quot;: &quot;#3388ff&quot;, &quot;fillOpacity&quot;: 0.2, &quot;fillRule&quot;: &quot;evenodd&quot;, &quot;lineCap&quot;: &quot;round&quot;, &quot;lineJoin&quot;: &quot;round&quot;, &quot;noClip&quot;: false, &quot;opacity&quot;: 1.0, &quot;smoothFactor&quot;: 1.0, &quot;stroke&quot;: true, &quot;weight&quot;: 3}\n",
              "            ).addTo(map_56e01492c061bcb616d523d72d7ff18d);\n",
              "        \n",
              "    \n",
              "            var rectangle_2bfbd08180271661b0d918f2f09d1170 = L.rectangle(\n",
              "                [[9.795677582829734, -8.4375], [8.407168163601074, -7.03125]],\n",
              "                {&quot;bubblingMouseEvents&quot;: true, &quot;color&quot;: &quot;#3388ff&quot;, &quot;dashArray&quot;: null, &quot;dashOffset&quot;: null, &quot;fill&quot;: false, &quot;fillColor&quot;: &quot;#3388ff&quot;, &quot;fillOpacity&quot;: 0.2, &quot;fillRule&quot;: &quot;evenodd&quot;, &quot;lineCap&quot;: &quot;round&quot;, &quot;lineJoin&quot;: &quot;round&quot;, &quot;noClip&quot;: false, &quot;opacity&quot;: 1.0, &quot;smoothFactor&quot;: 1.0, &quot;stroke&quot;: true, &quot;weight&quot;: 3}\n",
              "            ).addTo(map_56e01492c061bcb616d523d72d7ff18d);\n",
              "        \n",
              "    \n",
              "            var rectangle_d635f6b5f3ea2aae4a4ca673fef68309 = L.rectangle(\n",
              "                [[8.407168163601074, -8.4375], [7.01366792756663, -7.03125]],\n",
              "                {&quot;bubblingMouseEvents&quot;: true, &quot;color&quot;: &quot;#3388ff&quot;, &quot;dashArray&quot;: null, &quot;dashOffset&quot;: null, &quot;fill&quot;: false, &quot;fillColor&quot;: &quot;#3388ff&quot;, &quot;fillOpacity&quot;: 0.2, &quot;fillRule&quot;: &quot;evenodd&quot;, &quot;lineCap&quot;: &quot;round&quot;, &quot;lineJoin&quot;: &quot;round&quot;, &quot;noClip&quot;: false, &quot;opacity&quot;: 1.0, &quot;smoothFactor&quot;: 1.0, &quot;stroke&quot;: true, &quot;weight&quot;: 3}\n",
              "            ).addTo(map_56e01492c061bcb616d523d72d7ff18d);\n",
              "        \n",
              "    \n",
              "            var rectangle_eb0027107f932538627faeff877f320d = L.rectangle(\n",
              "                [[7.01366792756663, -8.4375], [5.615985819155334, -7.03125]],\n",
              "                {&quot;bubblingMouseEvents&quot;: true, &quot;color&quot;: &quot;#3388ff&quot;, &quot;dashArray&quot;: null, &quot;dashOffset&quot;: null, &quot;fill&quot;: false, &quot;fillColor&quot;: &quot;#3388ff&quot;, &quot;fillOpacity&quot;: 0.2, &quot;fillRule&quot;: &quot;evenodd&quot;, &quot;lineCap&quot;: &quot;round&quot;, &quot;lineJoin&quot;: &quot;round&quot;, &quot;noClip&quot;: false, &quot;opacity&quot;: 1.0, &quot;smoothFactor&quot;: 1.0, &quot;stroke&quot;: true, &quot;weight&quot;: 3}\n",
              "            ).addTo(map_56e01492c061bcb616d523d72d7ff18d);\n",
              "        \n",
              "    \n",
              "            var rectangle_d590b23a47ea748869449c49c6c2d4aa = L.rectangle(\n",
              "                [[5.615985819155334, -8.4375], [4.214943141390642, -7.03125]],\n",
              "                {&quot;bubblingMouseEvents&quot;: true, &quot;color&quot;: &quot;#3388ff&quot;, &quot;dashArray&quot;: null, &quot;dashOffset&quot;: null, &quot;fill&quot;: false, &quot;fillColor&quot;: &quot;#3388ff&quot;, &quot;fillOpacity&quot;: 0.2, &quot;fillRule&quot;: &quot;evenodd&quot;, &quot;lineCap&quot;: &quot;round&quot;, &quot;lineJoin&quot;: &quot;round&quot;, &quot;noClip&quot;: false, &quot;opacity&quot;: 1.0, &quot;smoothFactor&quot;: 1.0, &quot;stroke&quot;: true, &quot;weight&quot;: 3}\n",
              "            ).addTo(map_56e01492c061bcb616d523d72d7ff18d);\n",
              "        \n",
              "    \n",
              "            var rectangle_27039c54abb095a6caba0cfaad089062 = L.rectangle(\n",
              "                [[11.178401873711781, -7.03125], [9.795677582829734, -5.625]],\n",
              "                {&quot;bubblingMouseEvents&quot;: true, &quot;color&quot;: &quot;#3388ff&quot;, &quot;dashArray&quot;: null, &quot;dashOffset&quot;: null, &quot;fill&quot;: false, &quot;fillColor&quot;: &quot;#3388ff&quot;, &quot;fillOpacity&quot;: 0.2, &quot;fillRule&quot;: &quot;evenodd&quot;, &quot;lineCap&quot;: &quot;round&quot;, &quot;lineJoin&quot;: &quot;round&quot;, &quot;noClip&quot;: false, &quot;opacity&quot;: 1.0, &quot;smoothFactor&quot;: 1.0, &quot;stroke&quot;: true, &quot;weight&quot;: 3}\n",
              "            ).addTo(map_56e01492c061bcb616d523d72d7ff18d);\n",
              "        \n",
              "    \n",
              "            var rectangle_d438848dc9af8a232a221e6f16e3ebf9 = L.rectangle(\n",
              "                [[9.795677582829734, -7.03125], [8.407168163601074, -5.625]],\n",
              "                {&quot;bubblingMouseEvents&quot;: true, &quot;color&quot;: &quot;#3388ff&quot;, &quot;dashArray&quot;: null, &quot;dashOffset&quot;: null, &quot;fill&quot;: false, &quot;fillColor&quot;: &quot;#3388ff&quot;, &quot;fillOpacity&quot;: 0.2, &quot;fillRule&quot;: &quot;evenodd&quot;, &quot;lineCap&quot;: &quot;round&quot;, &quot;lineJoin&quot;: &quot;round&quot;, &quot;noClip&quot;: false, &quot;opacity&quot;: 1.0, &quot;smoothFactor&quot;: 1.0, &quot;stroke&quot;: true, &quot;weight&quot;: 3}\n",
              "            ).addTo(map_56e01492c061bcb616d523d72d7ff18d);\n",
              "        \n",
              "    \n",
              "            var rectangle_2e18875e7082432f002e67da766870c8 = L.rectangle(\n",
              "                [[8.407168163601074, -7.03125], [7.01366792756663, -5.625]],\n",
              "                {&quot;bubblingMouseEvents&quot;: true, &quot;color&quot;: &quot;#3388ff&quot;, &quot;dashArray&quot;: null, &quot;dashOffset&quot;: null, &quot;fill&quot;: false, &quot;fillColor&quot;: &quot;#3388ff&quot;, &quot;fillOpacity&quot;: 0.2, &quot;fillRule&quot;: &quot;evenodd&quot;, &quot;lineCap&quot;: &quot;round&quot;, &quot;lineJoin&quot;: &quot;round&quot;, &quot;noClip&quot;: false, &quot;opacity&quot;: 1.0, &quot;smoothFactor&quot;: 1.0, &quot;stroke&quot;: true, &quot;weight&quot;: 3}\n",
              "            ).addTo(map_56e01492c061bcb616d523d72d7ff18d);\n",
              "        \n",
              "    \n",
              "            var rectangle_34ab2be30068341f9260b390a6d817ce = L.rectangle(\n",
              "                [[7.01366792756663, -7.03125], [5.615985819155334, -5.625]],\n",
              "                {&quot;bubblingMouseEvents&quot;: true, &quot;color&quot;: &quot;#3388ff&quot;, &quot;dashArray&quot;: null, &quot;dashOffset&quot;: null, &quot;fill&quot;: false, &quot;fillColor&quot;: &quot;#3388ff&quot;, &quot;fillOpacity&quot;: 0.2, &quot;fillRule&quot;: &quot;evenodd&quot;, &quot;lineCap&quot;: &quot;round&quot;, &quot;lineJoin&quot;: &quot;round&quot;, &quot;noClip&quot;: false, &quot;opacity&quot;: 1.0, &quot;smoothFactor&quot;: 1.0, &quot;stroke&quot;: true, &quot;weight&quot;: 3}\n",
              "            ).addTo(map_56e01492c061bcb616d523d72d7ff18d);\n",
              "        \n",
              "    \n",
              "            var rectangle_618e477efc75ee4e79acbfabc180cf70 = L.rectangle(\n",
              "                [[5.615985819155334, -7.03125], [4.214943141390642, -5.625]],\n",
              "                {&quot;bubblingMouseEvents&quot;: true, &quot;color&quot;: &quot;#3388ff&quot;, &quot;dashArray&quot;: null, &quot;dashOffset&quot;: null, &quot;fill&quot;: false, &quot;fillColor&quot;: &quot;#3388ff&quot;, &quot;fillOpacity&quot;: 0.2, &quot;fillRule&quot;: &quot;evenodd&quot;, &quot;lineCap&quot;: &quot;round&quot;, &quot;lineJoin&quot;: &quot;round&quot;, &quot;noClip&quot;: false, &quot;opacity&quot;: 1.0, &quot;smoothFactor&quot;: 1.0, &quot;stroke&quot;: true, &quot;weight&quot;: 3}\n",
              "            ).addTo(map_56e01492c061bcb616d523d72d7ff18d);\n",
              "        \n",
              "    \n",
              "            var rectangle_41cb5dcfaa5fc8709c942f752ce35f5a = L.rectangle(\n",
              "                [[11.178401873711781, -5.625], [9.795677582829734, -4.21875]],\n",
              "                {&quot;bubblingMouseEvents&quot;: true, &quot;color&quot;: &quot;#3388ff&quot;, &quot;dashArray&quot;: null, &quot;dashOffset&quot;: null, &quot;fill&quot;: false, &quot;fillColor&quot;: &quot;#3388ff&quot;, &quot;fillOpacity&quot;: 0.2, &quot;fillRule&quot;: &quot;evenodd&quot;, &quot;lineCap&quot;: &quot;round&quot;, &quot;lineJoin&quot;: &quot;round&quot;, &quot;noClip&quot;: false, &quot;opacity&quot;: 1.0, &quot;smoothFactor&quot;: 1.0, &quot;stroke&quot;: true, &quot;weight&quot;: 3}\n",
              "            ).addTo(map_56e01492c061bcb616d523d72d7ff18d);\n",
              "        \n",
              "    \n",
              "            var rectangle_c0f21af971437e6bfed77a4a06172256 = L.rectangle(\n",
              "                [[9.795677582829734, -5.625], [8.407168163601074, -4.21875]],\n",
              "                {&quot;bubblingMouseEvents&quot;: true, &quot;color&quot;: &quot;#3388ff&quot;, &quot;dashArray&quot;: null, &quot;dashOffset&quot;: null, &quot;fill&quot;: false, &quot;fillColor&quot;: &quot;#3388ff&quot;, &quot;fillOpacity&quot;: 0.2, &quot;fillRule&quot;: &quot;evenodd&quot;, &quot;lineCap&quot;: &quot;round&quot;, &quot;lineJoin&quot;: &quot;round&quot;, &quot;noClip&quot;: false, &quot;opacity&quot;: 1.0, &quot;smoothFactor&quot;: 1.0, &quot;stroke&quot;: true, &quot;weight&quot;: 3}\n",
              "            ).addTo(map_56e01492c061bcb616d523d72d7ff18d);\n",
              "        \n",
              "    \n",
              "            var rectangle_8c527cff3e609908616b0eec0ed64360 = L.rectangle(\n",
              "                [[8.407168163601074, -5.625], [7.01366792756663, -4.21875]],\n",
              "                {&quot;bubblingMouseEvents&quot;: true, &quot;color&quot;: &quot;#3388ff&quot;, &quot;dashArray&quot;: null, &quot;dashOffset&quot;: null, &quot;fill&quot;: false, &quot;fillColor&quot;: &quot;#3388ff&quot;, &quot;fillOpacity&quot;: 0.2, &quot;fillRule&quot;: &quot;evenodd&quot;, &quot;lineCap&quot;: &quot;round&quot;, &quot;lineJoin&quot;: &quot;round&quot;, &quot;noClip&quot;: false, &quot;opacity&quot;: 1.0, &quot;smoothFactor&quot;: 1.0, &quot;stroke&quot;: true, &quot;weight&quot;: 3}\n",
              "            ).addTo(map_56e01492c061bcb616d523d72d7ff18d);\n",
              "        \n",
              "    \n",
              "            var rectangle_d014f568e06146075b4f3253a1e27180 = L.rectangle(\n",
              "                [[7.01366792756663, -5.625], [5.615985819155334, -4.21875]],\n",
              "                {&quot;bubblingMouseEvents&quot;: true, &quot;color&quot;: &quot;#3388ff&quot;, &quot;dashArray&quot;: null, &quot;dashOffset&quot;: null, &quot;fill&quot;: false, &quot;fillColor&quot;: &quot;#3388ff&quot;, &quot;fillOpacity&quot;: 0.2, &quot;fillRule&quot;: &quot;evenodd&quot;, &quot;lineCap&quot;: &quot;round&quot;, &quot;lineJoin&quot;: &quot;round&quot;, &quot;noClip&quot;: false, &quot;opacity&quot;: 1.0, &quot;smoothFactor&quot;: 1.0, &quot;stroke&quot;: true, &quot;weight&quot;: 3}\n",
              "            ).addTo(map_56e01492c061bcb616d523d72d7ff18d);\n",
              "        \n",
              "    \n",
              "            var rectangle_828ed3b1151adadddf2e888f5197503f = L.rectangle(\n",
              "                [[5.615985819155334, -5.625], [4.214943141390642, -4.21875]],\n",
              "                {&quot;bubblingMouseEvents&quot;: true, &quot;color&quot;: &quot;#3388ff&quot;, &quot;dashArray&quot;: null, &quot;dashOffset&quot;: null, &quot;fill&quot;: false, &quot;fillColor&quot;: &quot;#3388ff&quot;, &quot;fillOpacity&quot;: 0.2, &quot;fillRule&quot;: &quot;evenodd&quot;, &quot;lineCap&quot;: &quot;round&quot;, &quot;lineJoin&quot;: &quot;round&quot;, &quot;noClip&quot;: false, &quot;opacity&quot;: 1.0, &quot;smoothFactor&quot;: 1.0, &quot;stroke&quot;: true, &quot;weight&quot;: 3}\n",
              "            ).addTo(map_56e01492c061bcb616d523d72d7ff18d);\n",
              "        \n",
              "    \n",
              "            var rectangle_2a81edd3d4110b297b5618dd9d4990b8 = L.rectangle(\n",
              "                [[11.178401873711781, -4.21875], [9.795677582829734, -2.8125]],\n",
              "                {&quot;bubblingMouseEvents&quot;: true, &quot;color&quot;: &quot;#3388ff&quot;, &quot;dashArray&quot;: null, &quot;dashOffset&quot;: null, &quot;fill&quot;: false, &quot;fillColor&quot;: &quot;#3388ff&quot;, &quot;fillOpacity&quot;: 0.2, &quot;fillRule&quot;: &quot;evenodd&quot;, &quot;lineCap&quot;: &quot;round&quot;, &quot;lineJoin&quot;: &quot;round&quot;, &quot;noClip&quot;: false, &quot;opacity&quot;: 1.0, &quot;smoothFactor&quot;: 1.0, &quot;stroke&quot;: true, &quot;weight&quot;: 3}\n",
              "            ).addTo(map_56e01492c061bcb616d523d72d7ff18d);\n",
              "        \n",
              "    \n",
              "            var rectangle_bbc2d6d044b774dc9d6d1ba3ef8b3bd1 = L.rectangle(\n",
              "                [[9.795677582829734, -4.21875], [8.407168163601074, -2.8125]],\n",
              "                {&quot;bubblingMouseEvents&quot;: true, &quot;color&quot;: &quot;#3388ff&quot;, &quot;dashArray&quot;: null, &quot;dashOffset&quot;: null, &quot;fill&quot;: false, &quot;fillColor&quot;: &quot;#3388ff&quot;, &quot;fillOpacity&quot;: 0.2, &quot;fillRule&quot;: &quot;evenodd&quot;, &quot;lineCap&quot;: &quot;round&quot;, &quot;lineJoin&quot;: &quot;round&quot;, &quot;noClip&quot;: false, &quot;opacity&quot;: 1.0, &quot;smoothFactor&quot;: 1.0, &quot;stroke&quot;: true, &quot;weight&quot;: 3}\n",
              "            ).addTo(map_56e01492c061bcb616d523d72d7ff18d);\n",
              "        \n",
              "    \n",
              "            var rectangle_9b79d1e2f35a4705e5e1f8792af0c8d8 = L.rectangle(\n",
              "                [[8.407168163601074, -4.21875], [7.01366792756663, -2.8125]],\n",
              "                {&quot;bubblingMouseEvents&quot;: true, &quot;color&quot;: &quot;#3388ff&quot;, &quot;dashArray&quot;: null, &quot;dashOffset&quot;: null, &quot;fill&quot;: false, &quot;fillColor&quot;: &quot;#3388ff&quot;, &quot;fillOpacity&quot;: 0.2, &quot;fillRule&quot;: &quot;evenodd&quot;, &quot;lineCap&quot;: &quot;round&quot;, &quot;lineJoin&quot;: &quot;round&quot;, &quot;noClip&quot;: false, &quot;opacity&quot;: 1.0, &quot;smoothFactor&quot;: 1.0, &quot;stroke&quot;: true, &quot;weight&quot;: 3}\n",
              "            ).addTo(map_56e01492c061bcb616d523d72d7ff18d);\n",
              "        \n",
              "    \n",
              "            var rectangle_a1d15c616a3debd9ade7c26b67a6354c = L.rectangle(\n",
              "                [[7.01366792756663, -4.21875], [5.615985819155334, -2.8125]],\n",
              "                {&quot;bubblingMouseEvents&quot;: true, &quot;color&quot;: &quot;#3388ff&quot;, &quot;dashArray&quot;: null, &quot;dashOffset&quot;: null, &quot;fill&quot;: false, &quot;fillColor&quot;: &quot;#3388ff&quot;, &quot;fillOpacity&quot;: 0.2, &quot;fillRule&quot;: &quot;evenodd&quot;, &quot;lineCap&quot;: &quot;round&quot;, &quot;lineJoin&quot;: &quot;round&quot;, &quot;noClip&quot;: false, &quot;opacity&quot;: 1.0, &quot;smoothFactor&quot;: 1.0, &quot;stroke&quot;: true, &quot;weight&quot;: 3}\n",
              "            ).addTo(map_56e01492c061bcb616d523d72d7ff18d);\n",
              "        \n",
              "    \n",
              "            var rectangle_59f8ce6328fae242061967b956c1e0f8 = L.rectangle(\n",
              "                [[5.615985819155334, -4.21875], [4.214943141390642, -2.8125]],\n",
              "                {&quot;bubblingMouseEvents&quot;: true, &quot;color&quot;: &quot;#3388ff&quot;, &quot;dashArray&quot;: null, &quot;dashOffset&quot;: null, &quot;fill&quot;: false, &quot;fillColor&quot;: &quot;#3388ff&quot;, &quot;fillOpacity&quot;: 0.2, &quot;fillRule&quot;: &quot;evenodd&quot;, &quot;lineCap&quot;: &quot;round&quot;, &quot;lineJoin&quot;: &quot;round&quot;, &quot;noClip&quot;: false, &quot;opacity&quot;: 1.0, &quot;smoothFactor&quot;: 1.0, &quot;stroke&quot;: true, &quot;weight&quot;: 3}\n",
              "            ).addTo(map_56e01492c061bcb616d523d72d7ff18d);\n",
              "        \n",
              "    \n",
              "            var rectangle_0714e43414161de24f8911f6f134ea81 = L.rectangle(\n",
              "                [[9.795677582829734, -2.8125], [8.407168163601074, -1.40625]],\n",
              "                {&quot;bubblingMouseEvents&quot;: true, &quot;color&quot;: &quot;#3388ff&quot;, &quot;dashArray&quot;: null, &quot;dashOffset&quot;: null, &quot;fill&quot;: false, &quot;fillColor&quot;: &quot;#3388ff&quot;, &quot;fillOpacity&quot;: 0.2, &quot;fillRule&quot;: &quot;evenodd&quot;, &quot;lineCap&quot;: &quot;round&quot;, &quot;lineJoin&quot;: &quot;round&quot;, &quot;noClip&quot;: false, &quot;opacity&quot;: 1.0, &quot;smoothFactor&quot;: 1.0, &quot;stroke&quot;: true, &quot;weight&quot;: 3}\n",
              "            ).addTo(map_56e01492c061bcb616d523d72d7ff18d);\n",
              "        \n",
              "    \n",
              "            var rectangle_3edac27b476b37c5fb701aea9a7c250f = L.rectangle(\n",
              "                [[8.407168163601074, -2.8125], [7.01366792756663, -1.40625]],\n",
              "                {&quot;bubblingMouseEvents&quot;: true, &quot;color&quot;: &quot;#3388ff&quot;, &quot;dashArray&quot;: null, &quot;dashOffset&quot;: null, &quot;fill&quot;: false, &quot;fillColor&quot;: &quot;#3388ff&quot;, &quot;fillOpacity&quot;: 0.2, &quot;fillRule&quot;: &quot;evenodd&quot;, &quot;lineCap&quot;: &quot;round&quot;, &quot;lineJoin&quot;: &quot;round&quot;, &quot;noClip&quot;: false, &quot;opacity&quot;: 1.0, &quot;smoothFactor&quot;: 1.0, &quot;stroke&quot;: true, &quot;weight&quot;: 3}\n",
              "            ).addTo(map_56e01492c061bcb616d523d72d7ff18d);\n",
              "        \n",
              "    \n",
              "            var rectangle_6b72c0bf72f6d8c63139ca44820bf764 = L.rectangle(\n",
              "                [[7.01366792756663, -2.8125], [5.615985819155334, -1.40625]],\n",
              "                {&quot;bubblingMouseEvents&quot;: true, &quot;color&quot;: &quot;#3388ff&quot;, &quot;dashArray&quot;: null, &quot;dashOffset&quot;: null, &quot;fill&quot;: false, &quot;fillColor&quot;: &quot;#3388ff&quot;, &quot;fillOpacity&quot;: 0.2, &quot;fillRule&quot;: &quot;evenodd&quot;, &quot;lineCap&quot;: &quot;round&quot;, &quot;lineJoin&quot;: &quot;round&quot;, &quot;noClip&quot;: false, &quot;opacity&quot;: 1.0, &quot;smoothFactor&quot;: 1.0, &quot;stroke&quot;: true, &quot;weight&quot;: 3}\n",
              "            ).addTo(map_56e01492c061bcb616d523d72d7ff18d);\n",
              "        \n",
              "    \n",
              "            var rectangle_41d8462b5ad3392b3d90b981cbf7da85 = L.rectangle(\n",
              "                [[5.615985819155334, -2.8125], [4.214943141390642, -1.40625]],\n",
              "                {&quot;bubblingMouseEvents&quot;: true, &quot;color&quot;: &quot;#3388ff&quot;, &quot;dashArray&quot;: null, &quot;dashOffset&quot;: null, &quot;fill&quot;: false, &quot;fillColor&quot;: &quot;#3388ff&quot;, &quot;fillOpacity&quot;: 0.2, &quot;fillRule&quot;: &quot;evenodd&quot;, &quot;lineCap&quot;: &quot;round&quot;, &quot;lineJoin&quot;: &quot;round&quot;, &quot;noClip&quot;: false, &quot;opacity&quot;: 1.0, &quot;smoothFactor&quot;: 1.0, &quot;stroke&quot;: true, &quot;weight&quot;: 3}\n",
              "            ).addTo(map_56e01492c061bcb616d523d72d7ff18d);\n",
              "        \n",
              "    \n",
              "            map_56e01492c061bcb616d523d72d7ff18d.fitBounds(\n",
              "                [[4.361727653138719, -8.599300561377477], [10.736641381097794, -2.4927177229632633]],\n",
              "                {&quot;padding&quot;: [6, 6]}\n",
              "            );\n",
              "        \n",
              "&lt;/script&gt;\n",
              "&lt;/html&gt;\" style=\"position:absolute;width:100%;height:100%;left:0;top:0;border:none !important;\" allowfullscreen webkitallowfullscreen mozallowfullscreen></iframe></div></div>"
            ]
          },
          "metadata": {}
        }
      ]
    },
    {
      "cell_type": "markdown",
      "source": [
        "### Define image source\n",
        "\n",
        "Build cloudless mosaic using publicly available 10m Sentinel-2 imagery."
      ],
      "metadata": {
        "id": "Mu2j1U51Wae-"
      }
    },
    {
      "cell_type": "code",
      "source": [
        "# Based on https://developers.google.com/earth-engine/tutorials/community/sentinel-2-s2cloudless\n",
        "def get_s2_sr_cld_col(aoi, start_date, end_date):\n",
        "    # Import and filter S2 SR.\n",
        "    s2_sr_col = (ee.ImageCollection('COPERNICUS/S2_SR_HARMONIZED')\n",
        "        .filterBounds(aoi)\n",
        "        .filterDate(start_date, end_date)\n",
        "        .filter(ee.Filter.lte('CLOUDY_PIXEL_PERCENTAGE', CLOUD_FILTER)))\n",
        "\n",
        "    # Import and filter s2cloudless.\n",
        "    s2_cloudless_col = (ee.ImageCollection('COPERNICUS/S2_CLOUD_PROBABILITY')\n",
        "        .filterBounds(aoi)\n",
        "        .filterDate(start_date, end_date))\n",
        "\n",
        "    # Join the filtered s2cloudless collection to the SR collection by the 'system:index' property.\n",
        "    return ee.ImageCollection(ee.Join.saveFirst('s2cloudless').apply(**{\n",
        "        'primary': s2_sr_col,\n",
        "        'secondary': s2_cloudless_col,\n",
        "        'condition': ee.Filter.equals(**{\n",
        "            'leftField': 'system:index',\n",
        "            'rightField': 'system:index'\n",
        "        })\n",
        "    }))\n",
        "\n",
        "def add_cloud_bands(img):\n",
        "    # Get s2cloudless image, subset the probability band.\n",
        "    cld_prb = ee.Image(img.get('s2cloudless')).select('probability')\n",
        "\n",
        "    # Condition s2cloudless by the probability threshold value.\n",
        "    is_cloud = cld_prb.gt(CLD_PRB_THRESH).rename('clouds')\n",
        "\n",
        "    # Add the cloud probability layer and cloud mask as image bands.\n",
        "    return img.addBands(ee.Image([cld_prb, is_cloud]))\n",
        "\n",
        "def add_shadow_bands(img):\n",
        "    # Identify water pixels from the SCL band.\n",
        "    not_water = img.select('SCL').neq(6)\n",
        "\n",
        "    # Identify dark NIR pixels that are not water (potential cloud shadow pixels).\n",
        "    SR_BAND_SCALE = 1e4\n",
        "    dark_pixels = img.select('B8').lt(NIR_DRK_THRESH*SR_BAND_SCALE).multiply(not_water).rename('dark_pixels')\n",
        "\n",
        "    # Determine the direction to project cloud shadow from clouds (assumes UTM projection).\n",
        "    shadow_azimuth = ee.Number(90).subtract(ee.Number(img.get('MEAN_SOLAR_AZIMUTH_ANGLE')));\n",
        "\n",
        "    # Project shadows from clouds for the distance specified by the CLD_PRJ_DIST input.\n",
        "    cld_proj = (img.select('clouds').directionalDistanceTransform(shadow_azimuth, CLD_PRJ_DIST*10)\n",
        "        .reproject(**{'crs': img.select(0).projection(), 'scale': 100})\n",
        "        .select('distance')\n",
        "        .mask()\n",
        "        .rename('cloud_transform'))\n",
        "\n",
        "    # Identify the intersection of dark pixels with cloud shadow projection.\n",
        "    shadows = cld_proj.multiply(dark_pixels).rename('shadows')\n",
        "\n",
        "    # Add dark pixels, cloud projection, and identified shadows as image bands.\n",
        "    return img.addBands(ee.Image([dark_pixels, cld_proj, shadows]))\n",
        "\n",
        "def add_cld_shdw_mask(img):\n",
        "    # Add cloud component bands.\n",
        "    img_cloud = add_cloud_bands(img)\n",
        "\n",
        "    # Add cloud shadow component bands.\n",
        "    img_cloud_shadow = add_shadow_bands(img_cloud)\n",
        "\n",
        "    # Combine cloud and shadow mask, set cloud and shadow as value 1, else 0.\n",
        "    is_cld_shdw = img_cloud_shadow.select('clouds').add(img_cloud_shadow.select('shadows')).gt(0)\n",
        "\n",
        "    # Remove small cloud-shadow patches and dilate remaining pixels by BUFFER input.\n",
        "    # 20 m scale is for speed, and assumes clouds don't require 10 m precision.\n",
        "    is_cld_shdw = (is_cld_shdw.focalMin(2).focalMax(BUFFER*2/20)\n",
        "        .reproject(**{'crs': img.select([0]).projection(), 'scale': 20})\n",
        "        .rename('cloudmask'))\n",
        "\n",
        "    # Add the final cloud-shadow mask to the image.\n",
        "    return img_cloud_shadow.addBands(is_cld_shdw)\n",
        "\n",
        "def apply_cld_shdw_mask(img):\n",
        "    # Subset the cloudmask band and invert it so clouds/shadow are 0, else 1.\n",
        "    not_cld_shdw = img.select('cloudmask').Not()\n",
        "\n",
        "    # Subset reflectance bands and update their masks, return the result.\n",
        "    return img.select('B.*').updateMask(not_cld_shdw)\n",
        "\n",
        "####### Hillshade w/ variable transparency #######\n",
        "# Based on https://gis.stackexchange.com/questions/445241/hillshade-image-blend-that-is-not-washed-out-earth-engine\n",
        "def apply_hillshade(img):\n",
        "  exaggeration = 0.75\n",
        "  hillshade = ee.Terrain.hillshade(\n",
        "    input=ee.Image('NASA/NASADEM_HGT/001').select('elevation').multiply(exaggeration),\n",
        "    azimuth=150,\n",
        "    elevation=30\n",
        "  ).updateMask(img.select(0).mask())\n",
        "\n",
        "  # Create low and high illumination hillshade images with transparency\n",
        "  # gradient controlled by illumination; combine them and blend on top\n",
        "  # of the original image.\n",
        "  lo_clamped = hillshade.clamp(LO_MIN, LO_MAX)\n",
        "  lo_scaled = lo_clamped.unitScale(LO_OPAC_MIN, LO_OPAC_MAX)\n",
        "  lo = ee.Image(1).subtract(lo_scaled).selfMask().visualize(**LO_VIS)\n",
        "\n",
        "  hi_clamped = hillshade.clamp(HI_MIN, HI_MAX)\n",
        "  hi_scaled = hi_clamped.unitScale(HI_OPAC_MIN , HI_OPAC_MAX)\n",
        "  hi = hi_scaled.selfMask().visualize(**HI_VIS)\n",
        "\n",
        "  return img.blend(lo.blend(hi))\n",
        "\n",
        "# Build S2 mosaic.\n",
        "s2_sr_cld_col = get_s2_sr_cld_col(aoi.geometry(), START_DATE, END_DATE)\n",
        "s2_sr_median = s2_sr_cld_col.map(add_cld_shdw_mask).map(apply_cld_shdw_mask).median()\n",
        "image = apply_hillshade(s2_sr_median.visualize(**S2_VIS_PARAMS))\n",
        "\n",
        "# Preview imagery.\n",
        "map = folium.Map(width=1024, height=600, start_zoom=9)\n",
        "map.add_ee_image(image.clip(aoi), {}, 'Image export preview', show=True, opacity=1, min_zoom=9)\n",
        "map.fit_bounds([[aoi_bounds.south, aoi_bounds.west], [aoi_bounds.north, aoi_bounds.east]])\n",
        "\n",
        "print(\"Visualizing preview - this may take awhile. You may proceed with other steps without waiting.\")\n",
        "print()\n",
        "display(map)"
      ],
      "metadata": {
        "id": "zV6EZRM-WdAr",
        "colab": {
          "base_uri": "https://localhost:8080/",
          "height": 662
        },
        "outputId": "358fdced-7dc7-4f6e-97f3-bbf28572554a"
      },
      "execution_count": null,
      "outputs": [
        {
          "output_type": "stream",
          "name": "stdout",
          "text": [
            "Visualizing preview - this may take awhile. You may proceed with other steps without waiting.\n",
            "\n"
          ]
        },
        {
          "output_type": "display_data",
          "data": {
            "text/plain": [
              "<folium.folium.Map at 0x7d5618846590>"
            ],
            "text/html": [
              "<div style=\"width:100%;\"><div style=\"position:relative;width:100%;height:0;padding-bottom:60%;\"><span style=\"color:#565656\">Make this Notebook Trusted to load map: File -> Trust Notebook</span><iframe srcdoc=\"&lt;!DOCTYPE html&gt;\n",
              "&lt;html&gt;\n",
              "&lt;head&gt;\n",
              "    \n",
              "    &lt;meta http-equiv=&quot;content-type&quot; content=&quot;text/html; charset=UTF-8&quot; /&gt;\n",
              "    \n",
              "        &lt;script&gt;\n",
              "            L_NO_TOUCH = false;\n",
              "            L_DISABLE_3D = false;\n",
              "        &lt;/script&gt;\n",
              "    \n",
              "    &lt;style&gt;html, body {width: 100%;height: 100%;margin: 0;padding: 0;}&lt;/style&gt;\n",
              "    &lt;style&gt;#map {position:absolute;top:0;bottom:0;right:0;left:0;}&lt;/style&gt;\n",
              "    &lt;script src=&quot;https://cdn.jsdelivr.net/npm/leaflet@1.9.3/dist/leaflet.js&quot;&gt;&lt;/script&gt;\n",
              "    &lt;script src=&quot;https://code.jquery.com/jquery-1.12.4.min.js&quot;&gt;&lt;/script&gt;\n",
              "    &lt;script src=&quot;https://cdn.jsdelivr.net/npm/bootstrap@5.2.2/dist/js/bootstrap.bundle.min.js&quot;&gt;&lt;/script&gt;\n",
              "    &lt;script src=&quot;https://cdnjs.cloudflare.com/ajax/libs/Leaflet.awesome-markers/2.0.2/leaflet.awesome-markers.js&quot;&gt;&lt;/script&gt;\n",
              "    &lt;link rel=&quot;stylesheet&quot; href=&quot;https://cdn.jsdelivr.net/npm/leaflet@1.9.3/dist/leaflet.css&quot;/&gt;\n",
              "    &lt;link rel=&quot;stylesheet&quot; href=&quot;https://cdn.jsdelivr.net/npm/bootstrap@5.2.2/dist/css/bootstrap.min.css&quot;/&gt;\n",
              "    &lt;link rel=&quot;stylesheet&quot; href=&quot;https://netdna.bootstrapcdn.com/bootstrap/3.0.0/css/bootstrap.min.css&quot;/&gt;\n",
              "    &lt;link rel=&quot;stylesheet&quot; href=&quot;https://cdn.jsdelivr.net/npm/@fortawesome/fontawesome-free@6.2.0/css/all.min.css&quot;/&gt;\n",
              "    &lt;link rel=&quot;stylesheet&quot; href=&quot;https://cdnjs.cloudflare.com/ajax/libs/Leaflet.awesome-markers/2.0.2/leaflet.awesome-markers.css&quot;/&gt;\n",
              "    &lt;link rel=&quot;stylesheet&quot; href=&quot;https://cdn.jsdelivr.net/gh/python-visualization/folium/folium/templates/leaflet.awesome.rotate.min.css&quot;/&gt;\n",
              "    \n",
              "            &lt;meta name=&quot;viewport&quot; content=&quot;width=device-width,\n",
              "                initial-scale=1.0, maximum-scale=1.0, user-scalable=no&quot; /&gt;\n",
              "            &lt;style&gt;\n",
              "                #map_fadd12aa39972b82b6d773fb78370023 {\n",
              "                    position: relative;\n",
              "                    width: 1024.0px;\n",
              "                    height: 600.0px;\n",
              "                    left: 0.0%;\n",
              "                    top: 0.0%;\n",
              "                }\n",
              "                .leaflet-container { font-size: 1rem; }\n",
              "            &lt;/style&gt;\n",
              "        \n",
              "&lt;/head&gt;\n",
              "&lt;body&gt;\n",
              "    \n",
              "    \n",
              "            &lt;div class=&quot;folium-map&quot; id=&quot;map_fadd12aa39972b82b6d773fb78370023&quot; &gt;&lt;/div&gt;\n",
              "        \n",
              "&lt;/body&gt;\n",
              "&lt;script&gt;\n",
              "    \n",
              "    \n",
              "            var map_fadd12aa39972b82b6d773fb78370023 = L.map(\n",
              "                &quot;map_fadd12aa39972b82b6d773fb78370023&quot;,\n",
              "                {\n",
              "                    center: [0, 0],\n",
              "                    crs: L.CRS.EPSG3857,\n",
              "                    zoom: 1,\n",
              "                    zoomControl: true,\n",
              "                    preferCanvas: false,\n",
              "                    startZoom: 9,\n",
              "                }\n",
              "            );\n",
              "\n",
              "            \n",
              "\n",
              "        \n",
              "    \n",
              "            var tile_layer_ca425ec16c3f9be0be1f3b53fcc0854d = L.tileLayer(\n",
              "                &quot;https://{s}.tile.openstreetmap.org/{z}/{x}/{y}.png&quot;,\n",
              "                {&quot;attribution&quot;: &quot;Data by \\u0026copy; \\u003ca target=\\&quot;_blank\\&quot; href=\\&quot;http://openstreetmap.org\\&quot;\\u003eOpenStreetMap\\u003c/a\\u003e, under \\u003ca target=\\&quot;_blank\\&quot; href=\\&quot;http://www.openstreetmap.org/copyright\\&quot;\\u003eODbL\\u003c/a\\u003e.&quot;, &quot;detectRetina&quot;: false, &quot;maxNativeZoom&quot;: 18, &quot;maxZoom&quot;: 18, &quot;minZoom&quot;: 0, &quot;noWrap&quot;: false, &quot;opacity&quot;: 1, &quot;subdomains&quot;: &quot;abc&quot;, &quot;tms&quot;: false}\n",
              "            ).addTo(map_fadd12aa39972b82b6d773fb78370023);\n",
              "        \n",
              "    \n",
              "            var tile_layer_51a5dd5f626bfdd194117949b1e5a04f = L.tileLayer(\n",
              "                &quot;https://earthengine.googleapis.com/v1/projects/of-ground/maps/acb29e172101779de37ec05ded6a9994-ba8093db2ac9ef855f493c1544e8a1f0/tiles/{z}/{x}/{y}&quot;,\n",
              "                {&quot;attribution&quot;: &quot;Map Data \\u0026copy; \\u003ca href=\\&quot;https://earthengine.google.com/\\&quot;\\u003eGoogle Earth Engine\\u003c/a\\u003e&quot;, &quot;detectRetina&quot;: false, &quot;maxNativeZoom&quot;: 18, &quot;maxZoom&quot;: 18, &quot;minZoom&quot;: 9, &quot;noWrap&quot;: false, &quot;opacity&quot;: 1, &quot;subdomains&quot;: &quot;abc&quot;, &quot;tms&quot;: false}\n",
              "            ).addTo(map_fadd12aa39972b82b6d773fb78370023);\n",
              "        \n",
              "    \n",
              "            map_fadd12aa39972b82b6d773fb78370023.fitBounds(\n",
              "                [[4.361727653138719, -8.599300561377477], [10.736641381097794, -2.4927177229632633]],\n",
              "                {}\n",
              "            );\n",
              "        \n",
              "&lt;/script&gt;\n",
              "&lt;/html&gt;\" style=\"position:absolute;width:100%;height:100%;left:0;top:0;border:none !important;\" allowfullscreen webkitallowfullscreen mozallowfullscreen></iframe></div></div>"
            ]
          },
          "metadata": {}
        }
      ]
    },
    {
      "cell_type": "markdown",
      "source": [
        "## Export GeoTIFFs"
      ],
      "metadata": {
        "id": "Y0YdGN-QX39_"
      }
    },
    {
      "cell_type": "markdown",
      "source": [
        "### Prepare task params"
      ],
      "metadata": {
        "id": "z2T1OD34BzF-"
      }
    },
    {
      "cell_type": "code",
      "source": [
        "def build_export_task(image, extent, max_zoom, file_name_prefix, dimensions):\n",
        "  x, y, z = extent\n",
        "  return {\n",
        "    'fileFormat': 'GeoTIFF',\n",
        "    'image': image,\n",
        "     # Note: Region is specified in the source image's CRS, not the target one.\n",
        "    'region': tile_to_ee_bbox(extent),\n",
        "    'description': f\"Export-{COUNTRY_CODE}-{z}-{x}-{y}\",\n",
        "    'bucket': DEST_BUCKET,\n",
        "    'fileNamePrefix': file_name_prefix,\n",
        "    'maxWorkers': 2000,\n",
        "    'maxPixels': dimensions * dimensions,\n",
        "    'dimensions': dimensions,\n",
        "    'fileDimensions': dimensions,\n",
        "    'crs': \"EPSG:3857\"\n",
        "  }\n",
        "\n",
        "# Hi-res images.\n",
        "tasks = [build_export_task(\n",
        "    image=image,\n",
        "    extent=extent,\n",
        "    max_zoom=HI_RES_MAX_ZOOM,\n",
        "    file_name_prefix=f\"{DEST_PATH}/{extent.z}/{extent.x}/{extent.y}\",\n",
        "    dimensions=hi_res_dim)\n",
        " for extent in aoi_tileset_extents]\n",
        "\n",
        "print(len(tasks), \"task(s) ready to run\")"
      ],
      "metadata": {
        "id": "YlZkzJs_GA0W",
        "colab": {
          "base_uri": "https://localhost:8080/"
        },
        "outputId": "642720cd-45f7-4e28-9d78-98b125fa1144"
      },
      "execution_count": null,
      "outputs": [
        {
          "output_type": "stream",
          "name": "stdout",
          "text": [
            "27 task(s) ready to run\n"
          ]
        }
      ]
    },
    {
      "cell_type": "markdown",
      "source": [
        "### Run tasks"
      ],
      "metadata": {
        "id": "Vpk_OhXA_3Ee"
      }
    },
    {
      "cell_type": "code",
      "source": [
        "from google.cloud import storage\n",
        "\n",
        "# Uncomment to overwrite.\n",
        "# OVERWRITE_EXISTING=True\n",
        "\n",
        "# Access dest bucket to check if files already exist.\n",
        "storage_client = storage.Client(credentials=ee.data._credentials)\n",
        "bucket = storage_client.bucket(DEST_BUCKET)\n",
        "\n",
        "# https://google-auth-oauthlib.readthedocs.io/en/latest/reference/google_auth_oauthlib.flow.html\n",
        "# Export missing tilesets.\n",
        "print(\"Starting tasks. See running tasks at https://code.earthengine.google.com/tasks\")\n",
        "for i, t in enumerate(tasks):\n",
        "  name = t['fileNamePrefix'] + '.tif'\n",
        "  blob = storage.Blob(name, bucket)\n",
        "  if (not OVERWRITE_EXISTING and blob.exists(storage_client)):\n",
        "    print(blob.public_url, 'exists, skipping.')\n",
        "  else:\n",
        "    task = ee.batch.Export.image.toCloudStorage(**t)\n",
        "    task.start()\n",
        "    print(i, task, name)\n",
        "\n",
        "print(\"Export tasks started\")\n"
      ],
      "metadata": {
        "id": "ZKzjH0EP_vyC",
        "colab": {
          "base_uri": "https://localhost:8080/"
        },
        "outputId": "94b0c106-f0d1-42f1-fdd7-9f39f06668ba"
      },
      "execution_count": null,
      "outputs": [
        {
          "output_type": "stream",
          "name": "stdout",
          "text": [
            "Starting tasks. See running tasks at https://code.earthengine.google.com/tasks\n",
            "0 <Task RFO7UJCTYPARFDU5Z73DEVMQ Type.EXPORT_IMAGE: Export-Ivory Coast-8-121-122 (State.UNSUBMITTED)> raw-imagery/s2/2022/8/121/122.tif\n",
            "1 <Task ACSD343DV7HPXG2X4QYQYUQS Type.EXPORT_IMAGE: Export-Ivory Coast-8-121-123 (State.UNSUBMITTED)> raw-imagery/s2/2022/8/121/123.tif\n",
            "2 <Task HJY6ARNX3AMI3QJ44PGQNVN7 Type.EXPORT_IMAGE: Export-Ivory Coast-8-122-120 (State.UNSUBMITTED)> raw-imagery/s2/2022/8/122/120.tif\n",
            "3 <Task ZAUASW54OTZ5T6HKVXYFZDTW Type.EXPORT_IMAGE: Export-Ivory Coast-8-122-121 (State.UNSUBMITTED)> raw-imagery/s2/2022/8/122/121.tif\n",
            "4 <Task ZWFUQH7NLSDEY7VRWY34OS2H Type.EXPORT_IMAGE: Export-Ivory Coast-8-122-122 (State.UNSUBMITTED)> raw-imagery/s2/2022/8/122/122.tif\n",
            "5 <Task FGCYP4MHOV2JUYVYEXJOQ5PB Type.EXPORT_IMAGE: Export-Ivory Coast-8-122-123 (State.UNSUBMITTED)> raw-imagery/s2/2022/8/122/123.tif\n",
            "6 <Task AMLJKZRXCMRTB5GRIA7OXY7N Type.EXPORT_IMAGE: Export-Ivory Coast-8-122-124 (State.UNSUBMITTED)> raw-imagery/s2/2022/8/122/124.tif\n",
            "7 <Task WZOHHH2OPFQUDATL6DIXE45A Type.EXPORT_IMAGE: Export-Ivory Coast-8-123-120 (State.UNSUBMITTED)> raw-imagery/s2/2022/8/123/120.tif\n",
            "8 <Task FVBYJORFUHLCT2TWPCKSWUGG Type.EXPORT_IMAGE: Export-Ivory Coast-8-123-121 (State.UNSUBMITTED)> raw-imagery/s2/2022/8/123/121.tif\n",
            "9 <Task IV2T6IG6XM5YQPBCKRLXIGWT Type.EXPORT_IMAGE: Export-Ivory Coast-8-123-122 (State.UNSUBMITTED)> raw-imagery/s2/2022/8/123/122.tif\n",
            "10 <Task F2OLUWBRGVDQYAXEYTHR7VC4 Type.EXPORT_IMAGE: Export-Ivory Coast-8-123-123 (State.UNSUBMITTED)> raw-imagery/s2/2022/8/123/123.tif\n",
            "11 <Task 7E7RWAAY4PZVOJY2U7A6JHO5 Type.EXPORT_IMAGE: Export-Ivory Coast-8-123-124 (State.UNSUBMITTED)> raw-imagery/s2/2022/8/123/124.tif\n",
            "12 <Task KYNTYIT4P5GKKMQC7IBIHH6Q Type.EXPORT_IMAGE: Export-Ivory Coast-8-124-120 (State.UNSUBMITTED)> raw-imagery/s2/2022/8/124/120.tif\n",
            "13 <Task QW7U7XFU6HXOHUVTGADCAD6T Type.EXPORT_IMAGE: Export-Ivory Coast-8-124-121 (State.UNSUBMITTED)> raw-imagery/s2/2022/8/124/121.tif\n",
            "14 <Task 5CQUL7QCOMIJGISPHUQPQ2LC Type.EXPORT_IMAGE: Export-Ivory Coast-8-124-122 (State.UNSUBMITTED)> raw-imagery/s2/2022/8/124/122.tif\n",
            "15 <Task CJHY5BF3VGA6NXWFWNXKG66S Type.EXPORT_IMAGE: Export-Ivory Coast-8-124-123 (State.UNSUBMITTED)> raw-imagery/s2/2022/8/124/123.tif\n",
            "16 <Task ZJ6O5FNP7E2HUGBQHHGC5XBR Type.EXPORT_IMAGE: Export-Ivory Coast-8-124-124 (State.UNSUBMITTED)> raw-imagery/s2/2022/8/124/124.tif\n",
            "17 <Task OHZJYXLIQV4XJAVZLPYKN3XQ Type.EXPORT_IMAGE: Export-Ivory Coast-8-125-120 (State.UNSUBMITTED)> raw-imagery/s2/2022/8/125/120.tif\n",
            "18 <Task YD7YOFASU5OFXC7OHRNAPMFQ Type.EXPORT_IMAGE: Export-Ivory Coast-8-125-121 (State.UNSUBMITTED)> raw-imagery/s2/2022/8/125/121.tif\n",
            "19 <Task MS4NTOJ4GLGVFAN6VV4HNQI6 Type.EXPORT_IMAGE: Export-Ivory Coast-8-125-122 (State.UNSUBMITTED)> raw-imagery/s2/2022/8/125/122.tif\n",
            "20 <Task CMB2IY6OOCANTQ2WHFHV2MFE Type.EXPORT_IMAGE: Export-Ivory Coast-8-125-123 (State.UNSUBMITTED)> raw-imagery/s2/2022/8/125/123.tif\n",
            "21 <Task OF4GGIDAB373Y4RU33K66EBW Type.EXPORT_IMAGE: Export-Ivory Coast-8-125-124 (State.UNSUBMITTED)> raw-imagery/s2/2022/8/125/124.tif\n",
            "22 <Task S56ONKDLLFJETY7IICP6I4AX Type.EXPORT_IMAGE: Export-Ivory Coast-8-126-121 (State.UNSUBMITTED)> raw-imagery/s2/2022/8/126/121.tif\n",
            "23 <Task ABQRG6CVH4HVRFSCE7DAFE7H Type.EXPORT_IMAGE: Export-Ivory Coast-8-126-122 (State.UNSUBMITTED)> raw-imagery/s2/2022/8/126/122.tif\n",
            "24 <Task SOTHORZ62IA7MJZSN4EIHGFR Type.EXPORT_IMAGE: Export-Ivory Coast-8-126-123 (State.UNSUBMITTED)> raw-imagery/s2/2022/8/126/123.tif\n",
            "25 <Task 6ELCC4IM7U5Z5AOACV4V6NOZ Type.EXPORT_IMAGE: Export-Ivory Coast-8-126-124 (State.UNSUBMITTED)> raw-imagery/s2/2022/8/126/124.tif\n",
            "26 <Task XKM4RD22TP3WL54WTYM2GMWY Type.EXPORT_IMAGE: Export-Ivory Coast-0-0-0 (State.UNSUBMITTED)> raw-imagery/s2/2022/8/world.tif\n",
            "Export tasks started\n"
          ]
        }
      ]
    },
    {
      "cell_type": "markdown",
      "source": [
        "## Next steps\n",
        "\n",
        "If tasks fail, ensure `OVERWRITE_EXISTING=False` and rerun to generate missing outputs.\n",
        "\n",
        "Once the above tasks complete, proceed to [Post-process Ground imagery](https://colab.research.google.com/github/google/ground-platform/blob/master/notebooks/generate_offline_imagery2.ipynb) to prepare the generated imagery for use in Ground."
      ],
      "metadata": {
        "id": "zaavOtANCStn"
      }
    }
  ]
}